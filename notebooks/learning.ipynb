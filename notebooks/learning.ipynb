{
 "cells": [
  {
   "cell_type": "code",
   "execution_count": 1,
   "metadata": {},
   "outputs": [],
   "source": [
    "import numpy as np, matplotlib.pyplot as plt\n",
    "import sys; sys.path.append(\"../src2\")\n",
    "from pendulum import *\n",
    "import pickle"
   ]
  },
  {
   "cell_type": "code",
   "execution_count": null,
   "metadata": {
    "scrolled": true
   },
   "outputs": [],
   "source": [
    "# load optimal control data\n",
    "trajs = np.load(\"energy_walks_alpha.npy\")\n",
    "fig1, ax1 = plt.subplots(1)\n",
    "plot_traj(trajs[-1][:,1:5], ax=ax1, arm=True)\n",
    "ax1.set_xlabel(r\"$x$\")\n",
    "ax1.set_ylabel(r\"$y$\")\n",
    "fig2, ax2 = plt.subplots(1)\n",
    "plot_controls(trajs[-1][:,0], trajs[-1][:,-1], ax=ax2)\n",
    "\"\"\"\n",
    "for traj in trajs:\n",
    "    t = traj[:,0]\n",
    "    x = traj[:,1:5]\n",
    "    u = traj[:,-1]\n",
    "    plot_traj(x, ax=ax1, alpha=0.1)\n",
    "    plot_controls(t, u, ax=ax2, alpha=0.1)\n",
    "    \n",
    "\"\"\"\n",
    "ax1.set_ylim(-1,1)    \n",
    "ax2.set_ylim(-1,1)\n",
    "ax2.set_xlabel(r\"$\\tau$\")\n",
    "ax2.set_ylabel(r\"$u$\")"
   ]
  },
  {
   "cell_type": "code",
   "execution_count": null,
   "metadata": {},
   "outputs": [],
   "source": [
    "fig1.savefig(\"traj_db.pdf\", bbox_inches='tight')\n",
    "fig2.savefig(\"cont_db.pdf\", bbox_inches='tight')"
   ]
  },
  {
   "cell_type": "code",
   "execution_count": null,
   "metadata": {},
   "outputs": [],
   "source": [
    "# format data for neural network\n",
    "db = np.vstack(trajs)\n",
    "nt = db.shape[0]\n",
    "db = db[:,[1,2,3,4,-1]]\n",
    "db = data(db, [0,1,2,3], [4])\n",
    "nt"
   ]
  },
  {
   "cell_type": "code",
   "execution_count": null,
   "metadata": {},
   "outputs": [],
   "source": [
    "# instantiate neural network\n",
    "#nn = mlp([4, 20, 1])"
   ]
  },
  {
   "cell_type": "code",
   "execution_count": null,
   "metadata": {},
   "outputs": [],
   "source": [
    "# train\n",
    "n = nt\n",
    "nn.train(db.i[:n,:], db.o[:n,:], epo=10000, lr=1e-3, gpu=True)"
   ]
  },
  {
   "cell_type": "code",
   "execution_count": null,
   "metadata": {},
   "outputs": [],
   "source": [
    "# plot loss\n",
    "fig, ax = plt.subplots(1)\n",
    "ax.plot(nn.ltst, \"k--\")\n",
    "ax.plot(nn.ltrn, \"k-\")\n",
    "ax.set_yscale('log')\n",
    "\n",
    "#ax.set_xscale('log')"
   ]
  },
  {
   "cell_type": "code",
   "execution_count": null,
   "metadata": {},
   "outputs": [],
   "source": [
    "# instantiate controller\n",
    "cont = mlp_controller(nn)"
   ]
  },
  {
   "cell_type": "code",
   "execution_count": null,
   "metadata": {},
   "outputs": [],
   "source": [
    "fig, ax = plt.subplots(1)\n",
    "ax.plot(traj[:,0], traj[:,-1], \"k--\")\n",
    "ax.plot(traj[:,0], cont.predict(traj[:,1:5]), \"k-\")\n",
    "ax.set_aspect(\"equal\")"
   ]
  },
  {
   "cell_type": "code",
   "execution_count": null,
   "metadata": {},
   "outputs": [],
   "source": [
    "# simulate with neural network control\n",
    "x0 = [0,0,np.pi,0]\n",
    "xf = np.array([0,0,0,0])\n",
    "dyn  = dynamics(x0,xf, 0)\n",
    "t, x, u = dyn.propagate_controlled(14, cont)"
   ]
  },
  {
   "cell_type": "code",
   "execution_count": null,
   "metadata": {},
   "outputs": [],
   "source": [
    "n = np.argwhere(np.linalg.norm(x - xf, axis=1) < 0.178)[-1][0]\n",
    "t = t[:n]\n",
    "x = x[:n,:]\n",
    "u = u[:n]\n",
    "ax = plot_traj(x, arm=True, n=500)\n",
    "ax = plot_states(t, x, u)"
   ]
  },
  {
   "cell_type": "code",
   "execution_count": null,
   "metadata": {},
   "outputs": [],
   "source": [
    "np.trapz(abs(u), t)"
   ]
  },
  {
   "cell_type": "code",
   "execution_count": null,
   "metadata": {},
   "outputs": [],
   "source": [
    "#pickle.dump(nn, open(\"nn.p\", \"wb\"))"
   ]
  },
  {
   "cell_type": "code",
   "execution_count": null,
   "metadata": {},
   "outputs": [],
   "source": [
    "nn = pickle.load(open(\"nn.p\", \"rb\"))"
   ]
  },
  {
   "cell_type": "code",
   "execution_count": null,
   "metadata": {},
   "outputs": [],
   "source": [
    "%matplotlib"
   ]
  },
  {
   "cell_type": "code",
   "execution_count": null,
   "metadata": {},
   "outputs": [],
   "source": [
    "nn.train = mlp.train"
   ]
  },
  {
   "cell_type": "code",
   "execution_count": null,
   "metadata": {},
   "outputs": [],
   "source": [
    "nn.train"
   ]
  },
  {
   "cell_type": "code",
   "execution_count": null,
   "metadata": {},
   "outputs": [],
   "source": [
    "res"
   ]
  },
  {
   "cell_type": "code",
   "execution_count": null,
   "metadata": {},
   "outputs": [],
   "source": [
    "np.vstack((trajs)).shape"
   ]
  },
  {
   "cell_type": "code",
   "execution_count": null,
   "metadata": {},
   "outputs": [],
   "source": [
    "x0[2:]"
   ]
  },
  {
   "cell_type": "code",
   "execution_count": null,
   "metadata": {},
   "outputs": [],
   "source": [
    "nom = trajs[-1]"
   ]
  },
  {
   "cell_type": "code",
   "execution_count": null,
   "metadata": {},
   "outputs": [],
   "source": [
    "np.trapz(abs(nom[:,-1]), nom[:,0])"
   ]
  },
  {
   "cell_type": "code",
   "execution_count": null,
   "metadata": {},
   "outputs": [],
   "source": [
    "nom[:,0]"
   ]
  },
  {
   "cell_type": "code",
   "execution_count": null,
   "metadata": {},
   "outputs": [],
   "source": [
    "t"
   ]
  },
  {
   "cell_type": "code",
   "execution_count": null,
   "metadata": {},
   "outputs": [],
   "source": []
  }
 ],
 "metadata": {
  "kernelspec": {
   "display_name": "Python 3",
   "language": "python",
   "name": "python3"
  },
  "language_info": {
   "codemirror_mode": {
    "name": "ipython",
    "version": 3
   },
   "file_extension": ".py",
   "mimetype": "text/x-python",
   "name": "python",
   "nbconvert_exporter": "python",
   "pygments_lexer": "ipython3",
   "version": "3.7.0"
  }
 },
 "nbformat": 4,
 "nbformat_minor": 2
}
