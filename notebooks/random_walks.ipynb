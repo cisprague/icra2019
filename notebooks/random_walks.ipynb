{
 "cells": [
  {
   "cell_type": "code",
   "execution_count": 6,
   "metadata": {},
   "outputs": [
    {
     "name": "stdout",
     "output_type": "stream",
     "text": [
      "Using matplotlib backend: Qt5Agg\n"
     ]
    }
   ],
   "source": [
    "import sys; sys.path.append('../src1/')\n",
    "import numpy as np, matplotlib.pyplot as plt\n",
    "from indirect import Indirect\n",
    "from optimisation import conds\n",
    "%matplotlib"
   ]
  },
  {
   "cell_type": "code",
   "execution_count": 8,
   "metadata": {},
   "outputs": [],
   "source": [
    "fig, ax = plt.subplots(30)\n",
    "for cond in conds:\n",
    "    try:\n",
    "        dva = np.load(\"../data/homotopy1/\" + str(cond) + \".npy\").flatten()\n",
    "        i += 1\n",
    "        dv, alpha = dva[:-1], dva[-1]\n",
    "        seg = Indirect(*cond)\n",
    "        tl, xl, ul = seg.propagate(*seg.decode(dv), alpha, controls=True)\n",
    "        seg.plot_traj(xl, ax=ax[i])\n",
    "    except:\n",
    "        pass"
   ]
  },
  {
   "cell_type": "code",
   "execution_count": null,
   "metadata": {},
   "outputs": [],
   "source": [
    "s0, sf = ([0,0,0,0],[1,0,0,0])\n",
    "dva = np.load(\"../data/homotopy/\" + str((s0, sf)) + \".npy\").flatten()\n",
    "dv = dva[:-1]\n",
    "alpha = dva[-1]"
   ]
  },
  {
   "cell_type": "code",
   "execution_count": null,
   "metadata": {},
   "outputs": [],
   "source": [
    "tl, xl, ul = seg.propagate(*seg.decode(dv), alpha, controls=True)\n",
    "seg.plot_traj(xl)\n",
    "seg.plot_timeline(tl, xl, ul)"
   ]
  },
  {
   "cell_type": "code",
   "execution_count": null,
   "metadata": {},
   "outputs": [],
   "source": [
    "homo = seg.homotopy(verbose=True)"
   ]
  },
  {
   "cell_type": "code",
   "execution_count": null,
   "metadata": {},
   "outputs": [],
   "source": [
    "np.load(\"sfgfds\")"
   ]
  },
  {
   "cell_type": "code",
   "execution_count": null,
   "metadata": {},
   "outputs": [],
   "source": []
  }
 ],
 "metadata": {
  "kernelspec": {
   "display_name": "Python 3",
   "language": "python",
   "name": "python3"
  },
  "language_info": {
   "codemirror_mode": {
    "name": "ipython",
    "version": 3
   },
   "file_extension": ".py",
   "mimetype": "text/x-python",
   "name": "python",
   "nbconvert_exporter": "python",
   "pygments_lexer": "ipython3",
   "version": "3.7.0"
  }
 },
 "nbformat": 4,
 "nbformat_minor": 2
}
