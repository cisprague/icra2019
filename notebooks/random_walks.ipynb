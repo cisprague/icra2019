{
 "cells": [
  {
   "cell_type": "code",
   "execution_count": 1,
   "metadata": {},
   "outputs": [
    {
     "name": "stdout",
     "output_type": "stream",
     "text": [
      "Using matplotlib backend: Qt5Agg\n"
     ]
    }
   ],
   "source": [
    "import sys; sys.path.append('../src1/')\n",
    "import numpy as np, matplotlib.pyplot as plt\n",
    "from indirect import Indirect\n",
    "%matplotlib"
   ]
  },
  {
   "cell_type": "code",
   "execution_count": null,
   "metadata": {},
   "outputs": [
    {
     "name": "stdout",
     "output_type": "stream",
     "text": [
      "Trying random decision vector [ 4.4848931  -0.21470653  0.57535118  0.12731417 -0.78859878].\n"
     ]
    },
    {
     "name": "stderr",
     "output_type": "stream",
     "text": [
      "/usr/lib/python3.7/site-packages/scipy/integrate/_ivp/common.py:32: UserWarning: The following arguments have no effect for a chosen solver: `jac`.\n",
      "  .format(\", \".join(\"`{}`\".format(x) for x in extraneous)))\n"
     ]
    },
    {
     "name": "stdout",
     "output_type": "stream",
     "text": [
      "Optimised decision vector now [1.         0.51369431 0.22606993 0.83309929 0.00492149]\n",
      "Decision vector is infeasbile!\n",
      "Trying new random decision vector.\n",
      "Trying random decision vector [ 1.40588712  0.73144389 -0.6134546   0.27394017  0.71103776].\n",
      "Optimised decision vector now [ 1.          0.03389666 -0.68570561  0.29103667  0.13188963]\n",
      "Decision vector is infeasbile!\n",
      "Trying new random decision vector.\n",
      "Trying random decision vector [17.48915668 -0.47569049  0.070909    0.51485327  0.94880339].\n",
      "Optimised decision vector now [ 1.          0.87634462  0.15092061 -0.054761   -0.66410909]\n",
      "Decision vector is infeasbile!\n",
      "Trying new random decision vector.\n",
      "Trying random decision vector [ 1.46635271  0.25203029  0.37772077 -0.36140859 -0.41137184].\n",
      "Optimised decision vector now [ 1.          0.15499644  0.02230929 -0.13251821 -0.33222525]\n",
      "Decision vector is infeasbile!\n",
      "Trying new random decision vector.\n",
      "Trying random decision vector [ 1.42430012e+01 -5.44386992e-01 -3.17964195e-01 -1.05353542e-02\n",
      " -8.62050316e-01].\n",
      "Optimised decision vector now [ 1.00000086  0.78247184 -0.10736478 -0.16285552 -0.87967116]\n",
      "Decision vector is infeasbile!\n",
      "Trying new random decision vector.\n",
      "Trying random decision vector [19.69155148 -0.21203798 -0.90645654 -0.47227061  0.03022674].\n",
      "Optimised decision vector now [ 1.         -0.27776011  0.97847882  0.10017556  0.55897289]\n",
      "Decision vector is infeasbile!\n",
      "Trying new random decision vector.\n",
      "Trying random decision vector [15.01655882 -0.44497352  0.48101024 -0.07565687  0.06803559].\n",
      "Optimised decision vector now [ 1.         -0.16402733 -0.09424682  0.4090352  -0.27757974]\n",
      "Decision vector is infeasbile!\n",
      "Trying new random decision vector.\n",
      "Trying random decision vector [17.74427198 -0.48722681  0.85579599  0.81551832  0.33860291].\n",
      "Optimised decision vector now [1.         0.16714862 0.60428481 0.5725722  0.4941078 ]\n",
      "Decision vector is infeasbile!\n",
      "Trying new random decision vector.\n",
      "Trying random decision vector [ 4.90364956 -0.42620729 -0.61169518 -0.76674144  0.04889547].\n",
      "Optimised decision vector now [ 1.00000005  0.84912986  0.28194491 -0.68028422 -0.9998365 ]\n",
      "Decision vector is infeasbile!\n",
      "Trying new random decision vector.\n",
      "Trying random decision vector [16.44907062  0.30436007 -0.63463707 -0.0319381   0.46228886].\n",
      "Optimised decision vector now [1.         0.64221025 0.90729496 0.97319745 0.17141546]\n",
      "Decision vector is infeasbile!\n",
      "Trying new random decision vector.\n",
      "Trying random decision vector [12.70031503  0.24370737  0.53438771 -0.52327769 -0.9708509 ].\n",
      "Optimised decision vector now [ 1.          0.65280825 -0.33107865  0.48093472  0.90943145]\n",
      "Decision vector is infeasbile!\n",
      "Trying new random decision vector.\n",
      "Trying random decision vector [11.86320592  0.42066072  0.85197233 -0.578141    0.08122403].\n",
      "Optimised decision vector now [ 1.          0.96992262 -0.96907687 -0.8871723  -0.4721849 ]\n",
      "Decision vector is infeasbile!\n",
      "Trying new random decision vector.\n",
      "Trying random decision vector [ 4.19270253  0.07214249  0.7213316   0.94498891 -0.70093847].\n",
      "Optimised decision vector now [ 1.         -0.57032729 -0.90741964  0.85428245 -0.94100486]\n",
      "Decision vector is infeasbile!\n",
      "Trying new random decision vector.\n",
      "Trying random decision vector [14.20338216  0.40924473 -0.46482325  0.15617356  0.95603534].\n",
      "Optimised decision vector now [ 1.00000173  0.79626093 -0.06750502 -0.57039682 -0.3397903 ]\n",
      "Decision vector is infeasbile!\n",
      "Trying new random decision vector.\n",
      "Trying random decision vector [10.969689    0.7399126   0.35066389  0.95210575 -0.43961226].\n",
      "Optimised decision vector now [ 1.          0.25310385  0.048133    0.25641703 -0.23168653]\n",
      "Decision vector is infeasbile!\n",
      "Trying new random decision vector.\n",
      "Trying random decision vector [ 5.2568696   0.07390558 -0.12955741 -0.39890393 -0.23413579].\n",
      "Optimised decision vector now [ 1.00000144 -0.42569109 -0.52713408 -0.48505606 -0.76641295]\n",
      "Decision vector is infeasbile!\n",
      "Trying new random decision vector.\n",
      "Trying random decision vector [ 5.9796112  -0.20182195  0.84804282 -0.81776686  0.638608  ].\n",
      "Optimised decision vector now [ 1.         -0.19212733  0.90993038 -0.30103339  0.13694589]\n",
      "Decision vector is infeasbile!\n",
      "Trying new random decision vector.\n",
      "Trying random decision vector [13.45965193  0.90395895  0.09661222  0.31198876 -0.20448431].\n",
      "Optimised decision vector now [ 1.         -0.22542225 -0.80823614 -0.07266144  0.87963207]\n",
      "Decision vector is infeasbile!\n",
      "Trying new random decision vector.\n",
      "Trying random decision vector [ 4.26910575  0.49766333  0.63081723 -0.72668452  0.66722296].\n",
      "Optimised decision vector now [ 1.          0.64784609 -0.95349879 -0.93110102 -0.93342791]\n",
      "Decision vector is infeasbile!\n",
      "Trying new random decision vector.\n",
      "Trying random decision vector [15.24384409  0.87686337  0.9071281  -0.11658359  0.8618308 ].\n",
      "Optimised decision vector now [ 1.          0.20053047 -0.33646496  0.05527555 -0.74076279]\n",
      "Decision vector is infeasbile!\n",
      "Trying new random decision vector.\n",
      "Trying random decision vector [9.62661023 0.84908021 0.25115309 0.14280672 0.76435193].\n",
      "Optimised decision vector now [ 1.          0.0585174  -0.90967895 -0.87238116  0.04193337]\n",
      "Decision vector is infeasbile!\n",
      "Trying new random decision vector.\n",
      "Trying random decision vector [ 6.84563515 -0.72576823  0.04857857  0.4740089   0.39922924].\n",
      "Optimised decision vector now [ 1.         -0.67866225 -0.74378687 -0.62124679  0.99267744]\n",
      "Decision vector is infeasbile!\n",
      "Trying new random decision vector.\n",
      "Trying random decision vector [ 8.39346925  0.60862256 -0.15917844 -0.05605494  0.59792072].\n",
      "Optimised decision vector now [1.00000027 0.02457545 0.8771412  0.60039548 0.66277402]\n",
      "Decision vector is infeasbile!\n",
      "Trying new random decision vector.\n",
      "Trying random decision vector [14.73989986  0.96576866 -0.01900148  0.85651285  0.09005383].\n",
      "Optimised decision vector now [ 1.         -0.27279846  0.716123    0.92190814 -0.18761688]\n",
      "Decision vector is infeasbile!\n",
      "Trying new random decision vector.\n",
      "Trying random decision vector [16.00873159  0.45417014  0.95439013 -0.83433139 -0.1937094 ].\n",
      "Optimised decision vector now [ 1.         -0.90611635 -0.02460563  0.40156773 -0.90294212]\n",
      "Decision vector is infeasbile!\n",
      "Trying new random decision vector.\n",
      "Trying random decision vector [ 3.53078571 -0.93115541 -0.40195048 -0.83765978  0.75285909].\n",
      "Optimised decision vector now [ 1.          0.83412168  0.90778565 -0.30687234 -0.89675781]\n",
      "Decision vector is infeasbile!\n",
      "Trying new random decision vector.\n",
      "Trying random decision vector [ 6.57332121  0.3927074   0.80240703  0.66633591 -0.57092984].\n",
      "Optimised decision vector now [ 1.          0.93133163  0.01602825 -0.25184579 -0.97272474]\n",
      "Decision vector is infeasbile!\n",
      "Trying new random decision vector.\n",
      "Trying random decision vector [16.27255663  0.72086947 -0.16246258 -0.66057971  0.97321541].\n",
      "Optimised decision vector now [ 1.         -0.26691435  0.0596888   0.29655399 -0.79107345]\n",
      "Decision vector is infeasbile!\n",
      "Trying new random decision vector.\n",
      "Trying random decision vector [19.90443399  0.57437492  0.14719967  0.71760591 -0.09733671].\n",
      "Optimised decision vector now [ 3.48651885  0.35701    -0.56191938  0.48897737  0.08024555]\n",
      "Decision vector is infeasbile!\n",
      "Trying new random decision vector.\n",
      "Trying random decision vector [10.86745403 -0.47829769 -0.82735198  0.50282823 -0.96875338].\n",
      "Optimised decision vector now [ 1.00002185 -0.45801882  0.53282066  0.62947633  0.23234912]\n",
      "Decision vector is infeasbile!\n",
      "Trying new random decision vector.\n",
      "Trying random decision vector [ 5.61372921  0.94915552 -0.64558912 -0.85645785  0.66078061].\n",
      "Optimised decision vector now [ 1.         -0.53731235  0.09394289 -0.21196006 -0.01698508]\n",
      "Decision vector is infeasbile!\n",
      "Trying new random decision vector.\n",
      "Trying random decision vector [13.11168907 -0.76004104 -0.20895396  0.76514649 -0.21164931].\n"
     ]
    }
   ],
   "source": [
    "x0, xf = [-1,0,0,0], [1,0,0,0]\n",
    "seg = Indirect(x0, xf)\n",
    "dv = seg.solve(1, verbose=True, atol=1e-8, rtol=1e-8, Tlb=1, Tub=20)"
   ]
  },
  {
   "cell_type": "code",
   "execution_count": null,
   "metadata": {},
   "outputs": [],
   "source": [
    "tl, xl, ul = seg.propagate(*seg.decode(dv), 0.5, controls=True)\n",
    "seg.plot_traj(xl)\n",
    "seg.plot_timeline(tl, xl, ul)"
   ]
  },
  {
   "cell_type": "code",
   "execution_count": null,
   "metadata": {},
   "outputs": [],
   "source": []
  }
 ],
 "metadata": {
  "kernelspec": {
   "display_name": "Python 3",
   "language": "python",
   "name": "python3"
  },
  "language_info": {
   "codemirror_mode": {
    "name": "ipython",
    "version": 3
   },
   "file_extension": ".py",
   "mimetype": "text/x-python",
   "name": "python",
   "nbconvert_exporter": "python",
   "pygments_lexer": "ipython3",
   "version": "3.7.0"
  }
 },
 "nbformat": 4,
 "nbformat_minor": 2
}
