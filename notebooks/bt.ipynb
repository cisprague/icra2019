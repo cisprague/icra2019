{
 "cells": [
  {
   "cell_type": "code",
   "execution_count": 3,
   "metadata": {},
   "outputs": [],
   "source": [
    "import sys; sys.path.append(\"../src2\")\n",
    "from pendulum import *\n",
    "import numpy as np, matplotlib.pyplot as plt"
   ]
  },
  {
   "cell_type": "code",
   "execution_count": 4,
   "metadata": {},
   "outputs": [],
   "source": [
    "class controller(Tree):\n",
    "    \n",
    "    def __init__(self, xmin, xmax, tmax):\n",
    "        self.xmin = xmin\n",
    "        self.xmax = xmax\n",
    "        self.tmax = tmax\n",
    "        \n",
    "    def safety_okay(self, state):\n",
    "        x, v, theta, omega = state\n",
    "        if x < self.xmin or x > self.xmax:\n",
    "            return 0\n",
    "        else:\n",
    "            return 1\n",
    "        \n",
    "    def execution_time_okay(self, t):\n",
    "        if t >= self.tmax:\n",
    "            return 0\n",
    "        else:\n",
    "            return 1\n",
    "        \n",
    "    def emergency_controller(self):\n",
    "        pass\n",
    "    \n",
    "    def model_based_controller(self):\n",
    "        pass\n",
    "    \n",
    "    def neural_network_controller(self):\n",
    "        pass"
   ]
  },
  {
   "cell_type": "code",
   "execution_count": null,
   "metadata": {},
   "outputs": [],
   "source": []
  }
 ],
 "metadata": {
  "kernelspec": {
   "display_name": "Python 3",
   "language": "python",
   "name": "python3"
  },
  "language_info": {
   "codemirror_mode": {
    "name": "ipython",
    "version": 3
   },
   "file_extension": ".py",
   "mimetype": "text/x-python",
   "name": "python",
   "nbconvert_exporter": "python",
   "pygments_lexer": "ipython3",
   "version": "3.7.0"
  }
 },
 "nbformat": 4,
 "nbformat_minor": 2
}
