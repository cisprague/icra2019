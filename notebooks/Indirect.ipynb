{
 "cells": [
  {
   "cell_type": "code",
   "execution_count": null,
   "metadata": {},
   "outputs": [],
   "source": [
    "import sys; sys.path.append('../src1')\n",
    "from indirect import Indirect\n",
    "import numpy as np, matplotlib.pyplot as plt\n",
    "%matplotlib"
   ]
  },
  {
   "cell_type": "code",
   "execution_count": null,
   "metadata": {},
   "outputs": [],
   "source": [
    "# instantiate segment\n",
    "seg = Indirect([0,0,0,0],[0,0,np.pi,0],1,20)"
   ]
  },
  {
   "cell_type": "code",
   "execution_count": null,
   "metadata": {
    "scrolled": true
   },
   "outputs": [],
   "source": [
    "dvs = seg.homotopy(verbose=True, iter=50, iter0=50, atol=1e-10, rtol=1e-10, lb=1)"
   ]
  },
  {
   "cell_type": "code",
   "execution_count": null,
   "metadata": {},
   "outputs": [],
   "source": [
    "fig, ax = plt.subplots(1)\n",
    "n = len(dvs)\n",
    "alphas = np.array([1*alpha for alpha in dvs[:,-1]])\n",
    "for i in range(n):\n",
    "    tl, xl = seg.propagate(*seg.decode(dvs[i,:-1]), dvs[i,-1], atol=1e-12, rtol=1e-12)\n",
    "    x = xl[:,0] + np.sin(xl[:,2])\n",
    "    y = np.cos(xl[:,2])\n",
    "    ax.plot(x, y, 'k-', alpha=alphas[i])\n",
    "ax.set_aspect('equal')\n",
    "plt.show()"
   ]
  },
  {
   "cell_type": "code",
   "execution_count": null,
   "metadata": {},
   "outputs": [],
   "source": [
    "tl, xl = seg.propagate(*seg.decode(dvs[-1,:-1]),dvs[-1,-1], atol=1e-12, rtol=1e-12)\n",
    "ul = seg.controls(xl,dvs[-1,-1])\n",
    "seg.plot_timeline(tl, xl, ul)"
   ]
  },
  {
   "cell_type": "code",
   "execution_count": null,
   "metadata": {},
   "outputs": [],
   "source": [
    "#tl, xl = seg.propagate(*seg.decode(dv), 1, atol=1e-12, rtol=1e-12)\n",
    "seg.plot_traj(xl)\n",
    "seg.plot_timeline(tl, xl, seg.controls(xl, 1))"
   ]
  },
  {
   "cell_type": "code",
   "execution_count": null,
   "metadata": {},
   "outputs": [],
   "source": [
    "tl"
   ]
  },
  {
   "cell_type": "markdown",
   "metadata": {},
   "source": [
    "# Quadratically-optimal\n",
    "[0,0,np.pi,0],[1,0,0,0]: [13.06394793, -0.01445184, -0.23998028, -0.90257279, -0.42531177]\n",
    "\n",
    "# Time-optimal\n",
    "[0,0,np.pi,0],[1,0,0,0]: [ 6.20022122, -0.04802854, -0.49265924, -0.61532101, -0.04181662]"
   ]
  },
  {
   "cell_type": "code",
   "execution_count": null,
   "metadata": {},
   "outputs": [],
   "source": [
    "\n",
    "dv0 = [13.06394793, -0.01445184, -0.23998028, -0.90257279, -0.42531177]\n",
    "dv1 = [ 6.20022122, -0.04802854, -0.49265924, -0.61532101, -0.04181662]"
   ]
  },
  {
   "cell_type": "code",
   "execution_count": null,
   "metadata": {},
   "outputs": [],
   "source": [
    "t, xl = seg.propagate(*seg.decode(dv), 1, atol=1e-12, rtol=1e-12)\n",
    "ax = seg.plot_traj(xl, interp=True)\n",
    "ax = seg.plot_timeline(t, xl, seg.controls(xl, 1), interp=True)"
   ]
  },
  {
   "cell_type": "code",
   "execution_count": null,
   "metadata": {},
   "outputs": [],
   "source": [
    "seg.x0 = seg.x0 + np.random.random(seg.xdim)*0.1"
   ]
  },
  {
   "cell_type": "code",
   "execution_count": null,
   "metadata": {},
   "outputs": [],
   "source": [
    "dv, succ = seg.solve(dv=dv, atol=1e-10, rtol=1e-10, lb=1, alpha=.9999)"
   ]
  },
  {
   "cell_type": "code",
   "execution_count": null,
   "metadata": {},
   "outputs": [],
   "source": [
    "seg.solve()"
   ]
  },
  {
   "cell_type": "code",
   "execution_count": null,
   "metadata": {},
   "outputs": [],
   "source": [
    "import numpy as np"
   ]
  },
  {
   "cell_type": "code",
   "execution_count": null,
   "metadata": {},
   "outputs": [],
   "source": [
    "a = np.array([[0,0,0,0],[0,0,43,0]])\n",
    "a"
   ]
  },
  {
   "cell_type": "code",
   "execution_count": null,
   "metadata": {},
   "outputs": [],
   "source": [
    "np.save(str(a), a)"
   ]
  },
  {
   "cell_type": "code",
   "execution_count": null,
   "metadata": {},
   "outputs": [],
   "source": []
  }
 ],
 "metadata": {
  "kernelspec": {
   "display_name": "Python 3",
   "language": "python",
   "name": "python3"
  },
  "language_info": {
   "codemirror_mode": {
    "name": "ipython",
    "version": 3
   },
   "file_extension": ".py",
   "mimetype": "text/x-python",
   "name": "python",
   "nbconvert_exporter": "python",
   "pygments_lexer": "ipython3",
   "version": "3.7.0"
  }
 },
 "nbformat": 4,
 "nbformat_minor": 2
}
