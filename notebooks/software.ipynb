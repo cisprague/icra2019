{
 "cells": [
  {
   "cell_type": "code",
   "execution_count": 1,
   "metadata": {},
   "outputs": [
    {
     "name": "stdout",
     "output_type": "stream",
     "text": [
      "Using matplotlib backend: TkAgg\n"
     ]
    }
   ],
   "source": [
    "import sys; sys.path.append('../src')\n",
    "import numpy as np, matplotlib.pyplot as plt\n",
    "from dynamics import *\n",
    "from segment import *\n",
    "%matplotlib"
   ]
  },
  {
   "cell_type": "code",
   "execution_count": 2,
   "metadata": {},
   "outputs": [
    {
     "data": {
      "text/plain": [
       "<segment.Segment at 0x7fd437aec390>"
      ]
     },
     "execution_count": 2,
     "metadata": {},
     "output_type": "execute_result"
    }
   ],
   "source": [
    "# instantiate segment\n",
    "seg = Segment(Dynamics())\n",
    "seg"
   ]
  },
  {
   "cell_type": "code",
   "execution_count": 3,
   "metadata": {},
   "outputs": [],
   "source": [
    "# make control function\n",
    "u = lambda t, s: np.random.uniform(-0.1,0.1)"
   ]
  },
  {
   "cell_type": "code",
   "execution_count": null,
   "metadata": {},
   "outputs": [],
   "source": [
    "# set state\n",
    "seg.set([0,0,0,-0.1])"
   ]
  },
  {
   "cell_type": "code",
   "execution_count": null,
   "metadata": {},
   "outputs": [],
   "source": [
    "# simulate with that control\n",
    "#seg.reset()\n",
    "states, controls, times = seg.simulate(u, 40)"
   ]
  },
  {
   "cell_type": "code",
   "execution_count": null,
   "metadata": {},
   "outputs": [],
   "source": [
    "trace = np.vstack((seg.states[:,0] + np.sin(seg.states[:,2]), np.cos(seg.states[:,2]))).T\n",
    "fig, ax = plt.subplots(1)\n",
    "alph = np.linspace(0, 0.5, len(trace))\n",
    "for i in range(len(trace)):\n",
    "    p = np.vstack((np.hstack((seg.states[i,0], [0])), trace[i,:]))\n",
    "    ax.plot(p[:,0], p[:,1], 'k.-', alpha=alph[i])\n",
    "ax.set_aspect('equal')\n",
    "plt.show()"
   ]
  },
  {
   "cell_type": "code",
   "execution_count": null,
   "metadata": {},
   "outputs": [],
   "source": [
    "# instantiate indirect segment\n",
    "seg = Indirect(Dynamics())"
   ]
  },
  {
   "cell_type": "code",
   "execution_count": null,
   "metadata": {},
   "outputs": [],
   "source": [
    "# set initial state\n",
    "s0 = np.hstack((np.zeros(4), np.random.random(4)*10))\n",
    "seg.set(s0)"
   ]
  },
  {
   "cell_type": "code",
   "execution_count": null,
   "metadata": {},
   "outputs": [],
   "source": [
    "seg.integrator.y"
   ]
  },
  {
   "cell_type": "code",
   "execution_count": null,
   "metadata": {},
   "outputs": [],
   "source": [
    "state, control, times = seg.simulate(60)"
   ]
  },
  {
   "cell_type": "code",
   "execution_count": null,
   "metadata": {},
   "outputs": [],
   "source": [
    "x = seg.states[:,0] + np.sin(seg.states[:,2])\n",
    "y = np.cos(seg.states[:,2])\n",
    "fig, ax = plt.subplots(1)\n",
    "ax.plot(x, y, 'k.-')\n",
    "plt.show()"
   ]
  },
  {
   "cell_type": "code",
   "execution_count": null,
   "metadata": {},
   "outputs": [],
   "source": [
    "fig, ax = plt.subplots(9)\n",
    "for i in range(8):\n",
    "    ax[i].plot(seg.times, seg.states[:,i], \"k.-\")\n",
    "ax[-1].plot(seg.times[:-1], seg.controls, \"k.-\")\n",
    "plt.show()"
   ]
  },
  {
   "cell_type": "code",
   "execution_count": null,
   "metadata": {},
   "outputs": [],
   "source": []
  }
 ],
 "metadata": {
  "kernelspec": {
   "display_name": "Python 3",
   "language": "python",
   "name": "python3"
  },
  "language_info": {
   "codemirror_mode": {
    "name": "ipython",
    "version": 3
   },
   "file_extension": ".py",
   "mimetype": "text/x-python",
   "name": "python",
   "nbconvert_exporter": "python",
   "pygments_lexer": "ipython3",
   "version": "3.6.6"
  }
 },
 "nbformat": 4,
 "nbformat_minor": 2
}
