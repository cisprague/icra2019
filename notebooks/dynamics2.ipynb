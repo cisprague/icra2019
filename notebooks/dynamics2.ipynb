{
 "cells": [
  {
   "cell_type": "code",
   "execution_count": 1,
   "metadata": {},
   "outputs": [],
   "source": [
    "from sympy import *\n",
    "init_printing()"
   ]
  },
  {
   "cell_type": "code",
   "execution_count": 3,
   "metadata": {},
   "outputs": [
    {
     "data": {
      "text/latex": [
       "$$\\left[\\begin{matrix}x & v & \\theta & \\omega\\end{matrix}\\right]$$"
      ],
      "text/plain": [
       "[x  v  \\theta  \\omega]"
      ]
     },
     "execution_count": 3,
     "metadata": {},
     "output_type": "execute_result"
    }
   ],
   "source": [
    "x, v, theta, omega = symbols(\"x v \\\\theta, \\\\omega\")\n",
    "s = Matrix([x, v, theta, omega])\n",
    "s.T"
   ]
  },
  {
   "cell_type": "code",
   "execution_count": 5,
   "metadata": {},
   "outputs": [
    {
     "data": {
      "text/latex": [
       "$$\\left[\\begin{matrix}v & u & \\omega & - u \\cos{\\left (\\theta \\right )} + \\sin{\\left (\\theta \\right )}\\end{matrix}\\right]$$"
      ],
      "text/plain": [
       "[v  u  \\omega  -u⋅cos(\\theta) + sin(\\theta)]"
      ]
     },
     "execution_count": 5,
     "metadata": {},
     "output_type": "execute_result"
    }
   ],
   "source": [
    "u = symbols(\"u\")\n",
    "ds = Matrix([v, u, omega, sin(theta) - u*cos(theta)])\n",
    "ds.T"
   ]
  },
  {
   "cell_type": "code",
   "execution_count": 6,
   "metadata": {},
   "outputs": [
    {
     "data": {
      "image/png": "[encoded data removed]",
      "text/latex": [
       "$$\\alpha u + u^{2} \\left(- \\alpha + 1\\right)$$"
      ],
      "text/plain": [
       "       2         \n",
       "α⋅u + u ⋅(-α + 1)"
      ]
     },
     "execution_count": 6,
     "metadata": {},
     "output_type": "execute_result"
    }
   ],
   "source": [
    "alpha = symbols(\"alpha\")\n",
    "L = alpha*u + (1-alpha)*u**2\n",
    "L"
   ]
  },
  {
   "cell_type": "code",
   "execution_count": 33,
   "metadata": {},
   "outputs": [
    {
     "data": {
      "text/latex": [
       "$$\\left[\\begin{matrix}x - x_{u}\\\\v - v_{u}\\\\\\theta - \\theta_u\\\\\\omega - \\omega_u\\\\- x + x_{l}\\\\- v + v_{l}\\\\- \\theta + \\theta_l\\\\- \\omega + \\omega_l\\\\u - u_{u}\\\\- u + u_{l}\\\\t - t_{u}\\\\- t + t_{l}\\end{matrix}\\right]$$"
      ],
      "text/plain": [
       "⎡     x - xᵤ      ⎤\n",
       "⎢                 ⎥\n",
       "⎢     v - vᵤ      ⎥\n",
       "⎢                 ⎥\n",
       "⎢\\theta - \\thetaᵤ ⎥\n",
       "⎢                 ⎥\n",
       "⎢\\omega - \\omegaᵤ ⎥\n",
       "⎢                 ⎥\n",
       "⎢     -x + xₗ     ⎥\n",
       "⎢                 ⎥\n",
       "⎢     -v + vₗ     ⎥\n",
       "⎢                 ⎥\n",
       "⎢-\\theta + \\thetaₗ⎥\n",
       "⎢                 ⎥\n",
       "⎢-\\omega + \\omegaₗ⎥\n",
       "⎢                 ⎥\n",
       "⎢     u - uᵤ      ⎥\n",
       "⎢                 ⎥\n",
       "⎢     -u + uₗ     ⎥\n",
       "⎢                 ⎥\n",
       "⎢     t - tᵤ      ⎥\n",
       "⎢                 ⎥\n",
       "⎣     -t + tₗ     ⎦"
      ]
     },
     "execution_count": 33,
     "metadata": {},
     "output_type": "execute_result"
    }
   ],
   "source": [
    "slb = Matrix([symbols(\"{}_l\".format(var)) for var in s])\n",
    "sub = Matrix([symbols(\"{}_u\".format(var)) for var in s])\n",
    "ulb, uub = symbols(\"u_l u_u\")\n",
    "t, tlb, tub = symbols(\"t t_l t_u\")\n",
    "b = Matrix([*s-sub, *slb-s, u-uub, ulb-u, t-tub, tlb-t])\n",
    "b"
   ]
  },
  {
   "cell_type": "code",
   "execution_count": 8,
   "metadata": {},
   "outputs": [
    {
     "data": {
      "text/latex": [
       "$$\\left[\\begin{matrix}\\lambda_x & \\lambda_v & \\lambda_\\theta & \\lambda_\\omega\\end{matrix}\\right]$$"
      ],
      "text/plain": [
       "[\\lambdaₓ  \\lambdaᵥ  \\lambda_\\theta  \\lambda_\\omega]"
      ]
     },
     "execution_count": 8,
     "metadata": {},
     "output_type": "execute_result"
    }
   ],
   "source": [
    "l = Matrix([symbols(\"\\\\lambda_{}\".format(var)) for var in s])\n",
    "l.T"
   ]
  },
  {
   "cell_type": "code",
   "execution_count": 39,
   "metadata": {},
   "outputs": [
    {
     "data": {
      "text/latex": [
       "$$\\left[\\begin{matrix}\\mu_{0}\\\\\\mu_{1}\\\\\\mu_{2}\\\\\\mu_{3}\\\\\\mu_{4}\\\\\\mu_{5}\\\\\\mu_{6}\\\\\\mu_{7}\\\\\\mu_{8}\\\\\\mu_{9}\\\\\\mu_{10}\\\\\\mu_{11}\\end{matrix}\\right]$$"
      ],
      "text/plain": [
       "⎡\\mu_{0} ⎤\n",
       "⎢        ⎥\n",
       "⎢\\mu_{1} ⎥\n",
       "⎢        ⎥\n",
       "⎢\\mu_{2} ⎥\n",
       "⎢        ⎥\n",
       "⎢\\mu_{3} ⎥\n",
       "⎢        ⎥\n",
       "⎢\\mu_{4} ⎥\n",
       "⎢        ⎥\n",
       "⎢\\mu_{5} ⎥\n",
       "⎢        ⎥\n",
       "⎢\\mu_{6} ⎥\n",
       "⎢        ⎥\n",
       "⎢\\mu_{7} ⎥\n",
       "⎢        ⎥\n",
       "⎢\\mu_{8} ⎥\n",
       "⎢        ⎥\n",
       "⎢\\mu_{9} ⎥\n",
       "⎢        ⎥\n",
       "⎢\\mu_{10}⎥\n",
       "⎢        ⎥\n",
       "⎣\\mu_{11}⎦"
      ]
     },
     "execution_count": 39,
     "metadata": {},
     "output_type": "execute_result"
    }
   ],
   "source": [
    "mu = Matrix([symbols(\"\\\\mu_{{{}}}\".format(i)) for i in range(len(b))])\n",
    "mu"
   ]
  },
  {
   "cell_type": "code",
   "execution_count": 40,
   "metadata": {},
   "outputs": [
    {
     "data": {
      "image/png": "[encoded data removed]",
      "text/latex": [
       "$$\\lambda_\\omega \\left(- u \\cos{\\left (\\theta \\right )} + \\sin{\\left (\\theta \\right )}\\right) + \\lambda_\\theta \\omega + \\lambda_v u + \\lambda_x v + \\mu_{0} \\left(x - x_{u}\\right) + \\mu_{10} \\left(t - t_{u}\\right) + \\mu_{11} \\left(- t + t_{l}\\right) + \\mu_{1} \\left(v - v_{u}\\right) + \\mu_{2} \\left(\\theta - \\theta_u\\right) + \\mu_{3} \\left(\\omega - \\omega_u\\right) + \\mu_{4} \\left(- x + x_{l}\\right) + \\mu_{5} \\left(- v + v_{l}\\right) + \\mu_{6} \\left(- \\theta + \\theta_l\\right) + \\mu_{7} \\left(- \\omega + \\omega_l\\right) + \\mu_{8} \\left(u - u_{u}\\right) + \\mu_{9} \\left(- u + u_{l}\\right) + \\alpha u + u^{2} \\left(- \\alpha + 1\\right)$$"
      ],
      "text/plain": [
       "                                                                              \n",
       "\\lambda_\\omega⋅(-u⋅cos(\\theta) + sin(\\theta)) + \\lambda_\\theta⋅\\omega + \\lambd\n",
       "\n",
       "                                                                              \n",
       "aᵥ⋅u + \\lambdaₓ⋅v + \\mu_{0}⋅(x - xᵤ) + \\mu_{10}⋅(t - tᵤ) + \\mu_{11}⋅(-t + tₗ) \n",
       "\n",
       "                                                                              \n",
       "+ \\mu_{1}⋅(v - vᵤ) + \\mu_{2}⋅(\\theta - \\thetaᵤ) + \\mu_{3}⋅(\\omega - \\omegaᵤ) +\n",
       "\n",
       "                                                                              \n",
       " \\mu_{4}⋅(-x + xₗ) + \\mu_{5}⋅(-v + vₗ) + \\mu_{6}⋅(-\\theta + \\thetaₗ) + \\mu_{7}\n",
       "\n",
       "                                                                     2        \n",
       "⋅(-\\omega + \\omegaₗ) + \\mu_{8}⋅(u - uᵤ) + \\mu_{9}⋅(-u + uₗ) + α⋅u + u ⋅(-α + 1\n",
       "\n",
       " \n",
       ")"
      ]
     },
     "execution_count": 40,
     "metadata": {},
     "output_type": "execute_result"
    }
   ],
   "source": [
    "H = L + l.dot(ds) + mu.dot(b)\n",
    "H"
   ]
  },
  {
   "cell_type": "code",
   "execution_count": 44,
   "metadata": {},
   "outputs": [
    {
     "data": {
      "text/latex": [
       "$$\\left[\\begin{matrix}- \\mu_{0} + \\mu_{4}\\\\- \\lambda_x - \\mu_{1} + \\mu_{5}\\\\- \\lambda_\\omega \\left(u \\sin{\\left (\\theta \\right )} + \\cos{\\left (\\theta \\right )}\\right) - \\mu_{2} + \\mu_{6}\\\\- \\lambda_\\theta - \\mu_{3} + \\mu_{7}\\end{matrix}\\right]$$"
      ],
      "text/plain": [
       "⎡                       -\\mu_{0} + \\mu_{4}                        ⎤\n",
       "⎢                                                                 ⎥\n",
       "⎢                  -\\lambdaₓ - \\mu_{1} + \\mu_{5}                  ⎥\n",
       "⎢                                                                 ⎥\n",
       "⎢-\\lambda_\\omega⋅(u⋅sin(\\theta) + cos(\\theta)) - \\mu_{2} + \\mu_{6}⎥\n",
       "⎢                                                                 ⎥\n",
       "⎣               -\\lambda_\\theta - \\mu_{3} + \\mu_{7}               ⎦"
      ]
     },
     "execution_count": 44,
     "metadata": {},
     "output_type": "execute_result"
    }
   ],
   "source": [
    "dl = -H.diff(s)\n",
    "dl"
   ]
  },
  {
   "cell_type": "code",
   "execution_count": 46,
   "metadata": {},
   "outputs": [
    {
     "data": {
      "image/png": "[encoded data removed]",
      "text/latex": [
       "$$\\left [ \\frac{- \\lambda_\\omega \\cos{\\left (\\theta \\right )} + \\lambda_v + \\mu_{8} - \\mu_{9} + \\alpha}{2 \\left(\\alpha - 1\\right)}\\right ]$$"
      ],
      "text/plain": [
       "⎡-\\lambda_\\omega⋅cos(\\theta) + \\lambdaᵥ + \\mu_{8} - \\mu_{9} + α⎤\n",
       "⎢──────────────────────────────────────────────────────────────⎥\n",
       "⎣                          2⋅(α - 1)                           ⎦"
      ]
     },
     "execution_count": 46,
     "metadata": {},
     "output_type": "execute_result"
    }
   ],
   "source": [
    "solve(H.diff(u), u)"
   ]
  },
  {
   "cell_type": "code",
   "execution_count": null,
   "metadata": {},
   "outputs": [],
   "source": []
  }
 ],
 "metadata": {
  "kernelspec": {
   "display_name": "Python 3",
   "language": "python",
   "name": "python3"
  },
  "language_info": {
   "codemirror_mode": {
    "name": "ipython",
    "version": 3
   },
   "file_extension": ".py",
   "mimetype": "text/x-python",
   "name": "python",
   "nbconvert_exporter": "python",
   "pygments_lexer": "ipython3",
   "version": "3.7.0"
  }
 },
 "nbformat": 4,
 "nbformat_minor": 2
}
