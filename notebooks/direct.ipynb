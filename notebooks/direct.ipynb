{
 "cells": [
  {
   "cell_type": "code",
   "execution_count": 13,
   "metadata": {},
   "outputs": [],
   "source": [
    "import sys; sys.path.append(\"../src\")\n",
    "from direct import Direct\n",
    "from optimisation import conds\n",
    "import numpy as np, matplotlib.pyplot as plt"
   ]
  },
  {
   "cell_type": "code",
   "execution_count": 14,
   "metadata": {},
   "outputs": [],
   "source": [
    "# initial and final states\n",
    "x0 = [0,0,0,0]\n",
    "xf = [1,0,0,0]"
   ]
  },
  {
   "cell_type": "code",
   "execution_count": 15,
   "metadata": {},
   "outputs": [],
   "source": [
    "# instantiate direct segment\n",
    "seg = Direct(x0, xf)"
   ]
  },
  {
   "cell_type": "code",
   "execution_count": 21,
   "metadata": {},
   "outputs": [
    {
     "name": "stdout",
     "output_type": "stream",
     "text": [
      "[-1, 0, 0, 0] [0, 0, 0, 0] 4.555161842684519\n",
      "[-1, 0, 0, 0] [1, 0, 0, 0] 5.528949956195733\n",
      "[-1, 0, 0, 0] [-1, 0, 3.141592653589793, 0] 6.156613044613905\n",
      "[-1, 0, 0, 0] [0, 0, 3.141592653589793, 0] 4.810676389792809\n",
      "[-1, 0, 0, 0] [1, 0, 3.141592653589793, 0] 5.34646217494403\n",
      "[0, 0, 0, 0] [-1, 0, 0, 0] 4.555161842684519\n",
      "[0, 0, 0, 0] [1, 0, 0, 0] 4.555161842684517\n",
      "[0, 0, 0, 0] [-1, 0, 3.141592653589793, 0] 6.729461011662347\n",
      "[0, 0, 0, 0] [0, 0, 3.141592653589793, 0] 6.656613044613476\n",
      "[0, 0, 0, 0] [1, 0, 3.141592653589793, 0] 4.310676389792809\n",
      "[1, 0, 0, 0] [-1, 0, 0, 0] 5.528949956195732\n",
      "[1, 0, 0, 0] [0, 0, 0, 0] 0.5000000000022201\n",
      "[1, 0, 0, 0] [-1, 0, 3.141592653589793, 0] 6.826386803881379\n",
      "[1, 0, 0, 0] [0, 0, 3.141592653589793, 0] 6.229461034139615\n",
      "[1, 0, 0, 0] [1, 0, 3.141592653589793, 0] 6.156613044613904\n",
      "[-1, 0, 3.141592653589793, 0] [-1, 0, 0, 0] 6.656613044613108\n",
      "[-1, 0, 3.141592653589793, 0] [0, 0, 0, 0] 6.729461011662347\n",
      "[-1, 0, 3.141592653589793, 0] [1, 0, 0, 0] 6.3263868038814115\n",
      "[-1, 0, 3.141592653589793, 0] [0, 0, 3.141592653589793, 0] 4.526832631945994\n",
      "[-1, 0, 3.141592653589793, 0] [1, 0, 3.141592653589793, 0] 5.468085894481728\n",
      "[0, 0, 3.141592653589793, 0] [-1, 0, 0, 0] 6.2256278883058185\n",
      "[0, 0, 3.141592653589793, 0] [0, 0, 0, 0] 1.3846654262496288e-14\n",
      "[0, 0, 3.141592653589793, 0] [1, 0, 3.141592653589793, 0] 4.526832631945997\n"
     ]
    }
   ],
   "source": [
    "for cond in conds:\n",
    "    try:\n",
    "        a = np.load(\"../data/min_times/\" + str(cond) + \".npy\")\n",
    "    except:\n",
    "        continue\n",
    "    print(*cond, a)"
   ]
  },
  {
   "cell_type": "code",
   "execution_count": 22,
   "metadata": {},
   "outputs": [
    {
     "data": {
      "text/plain": [
       "array([list([0, 1, 2, 3]), list([1, 2, 3, 4, 5])], dtype=object)"
      ]
     },
     "execution_count": 22,
     "metadata": {},
     "output_type": "execute_result"
    }
   ],
   "source": [
    "np.array([[0,1,2,3],[1,2,3,4,5]])"
   ]
  },
  {
   "cell_type": "code",
   "execution_count": null,
   "metadata": {},
   "outputs": [],
   "source": []
  }
 ],
 "metadata": {
  "kernelspec": {
   "display_name": "Python 3",
   "language": "python",
   "name": "python3"
  },
  "language_info": {
   "codemirror_mode": {
    "name": "ipython",
    "version": 3
   },
   "file_extension": ".py",
   "mimetype": "text/x-python",
   "name": "python",
   "nbconvert_exporter": "python",
   "pygments_lexer": "ipython3",
   "version": "3.7.0"
  }
 },
 "nbformat": 4,
 "nbformat_minor": 2
}
