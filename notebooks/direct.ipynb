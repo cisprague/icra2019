{
 "cells": [
  {
   "cell_type": "code",
   "execution_count": 1,
   "metadata": {},
   "outputs": [],
   "source": [
    "import sys; sys.path.append(\"../src\")\n",
    "from direct import Direct\n",
    "import numpy as np, matplotlib.pyplot as plt"
   ]
  },
  {
   "cell_type": "code",
   "execution_count": 2,
   "metadata": {},
   "outputs": [],
   "source": [
    "# initial and final states\n",
    "x0 = [0,0,0,0]\n",
    "xf = [1,0,0,0]"
   ]
  },
  {
   "cell_type": "code",
   "execution_count": 3,
   "metadata": {},
   "outputs": [],
   "source": [
    "# instantiate direct segment\n",
    "seg = Direct(x0, xf)"
   ]
  },
  {
   "cell_type": "code",
   "execution_count": 6,
   "metadata": {},
   "outputs": [],
   "source": [
    "# optimise trajectory\n",
    "dv = seg.solve(20, Tub=10, obj='time')"
   ]
  },
  {
   "cell_type": "code",
   "execution_count": 7,
   "metadata": {},
   "outputs": [
    {
     "data": {
      "text/plain": [
       "array([ 4.58832435e+00,  0.00000000e+00,  0.00000000e+00,  0.00000000e+00,\n",
       "        0.00000000e+00, -1.00000000e+00, -2.91588925e-02, -2.41490755e-01,\n",
       "        2.93000859e-02,  2.43821943e-01, -1.00000000e+00, -1.10600266e-01,\n",
       "       -4.08005921e-01,  1.12829691e-01,  4.26241984e-01, -3.79060370e-01,\n",
       "       -2.06778947e-01, -3.33030331e-01,  2.17784658e-01,  3.92691025e-01,\n",
       "        9.99999996e-01, -2.58043801e-01, -9.15395761e-02,  2.91432647e-01,\n",
       "        2.20867980e-01,  1.00000000e+00, -2.50990870e-01,  1.49951180e-01,\n",
       "        3.25751170e-01,  6.50897227e-02,  1.00000000e+00, -1.85620153e-01,\n",
       "        3.91441936e-01,  3.23257356e-01, -8.58703554e-02,  1.00000000e+00,\n",
       "       -6.19316522e-02,  6.32932691e-01,  2.83766713e-01, -2.43178524e-01,\n",
       "        9.99999998e-01,  1.20074634e-01,  8.74423445e-01,  2.04390907e-01,\n",
       "       -4.18074315e-01,  9.99999991e-01,  3.60398704e-01,  1.11591419e+00,\n",
       "        7.95274282e-02, -6.21713691e-01,  9.99999955e-01,  6.39601296e-01,\n",
       "        1.11591419e+00, -7.95274282e-02, -6.21713691e-01, -9.99999955e-01,\n",
       "        8.79925366e-01,  8.74423445e-01, -2.04390907e-01, -4.18074315e-01,\n",
       "       -9.99999991e-01,  1.06193165e+00,  6.32932691e-01, -2.83766713e-01,\n",
       "       -2.43178524e-01, -9.99999998e-01,  1.18562015e+00,  3.91441936e-01,\n",
       "       -3.23257356e-01, -8.58703554e-02, -1.00000000e+00,  1.25099087e+00,\n",
       "        1.49951180e-01, -3.25751170e-01,  6.50897227e-02, -1.00000000e+00,\n",
       "        1.25804380e+00, -9.15395761e-02, -2.91432647e-01,  2.20867980e-01,\n",
       "       -1.00000000e+00,  1.20677895e+00, -3.33030331e-01, -2.17784658e-01,\n",
       "        3.92691025e-01, -9.99999996e-01,  1.11060027e+00, -4.08005921e-01,\n",
       "       -1.12829691e-01,  4.26241984e-01,  3.79060370e-01,  1.02915889e+00,\n",
       "       -2.41490755e-01, -2.93000859e-02,  2.43821943e-01,  1.00000000e+00,\n",
       "        1.00000000e+00,  0.00000000e+00, -2.14641742e-33,  0.00000000e+00,\n",
       "        1.00000000e+00])"
      ]
     },
     "execution_count": 7,
     "metadata": {},
     "output_type": "execute_result"
    }
   ],
   "source": [
    "dv"
   ]
  },
  {
   "cell_type": "code",
   "execution_count": null,
   "metadata": {},
   "outputs": [],
   "source": []
  }
 ],
 "metadata": {
  "kernelspec": {
   "display_name": "Python 3",
   "language": "python",
   "name": "python3"
  },
  "language_info": {
   "codemirror_mode": {
    "name": "ipython",
    "version": 3
   },
   "file_extension": ".py",
   "mimetype": "text/x-python",
   "name": "python",
   "nbconvert_exporter": "python",
   "pygments_lexer": "ipython3",
   "version": "3.7.0"
  }
 },
 "nbformat": 4,
 "nbformat_minor": 2
}
