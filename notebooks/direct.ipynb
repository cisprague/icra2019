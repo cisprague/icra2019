{
 "cells": [
  {
   "cell_type": "code",
   "execution_count": 11,
   "metadata": {},
   "outputs": [
    {
     "name": "stdout",
     "output_type": "stream",
     "text": [
      "Using matplotlib backend: Qt5Agg\n"
     ]
    }
   ],
   "source": [
    "import sys; sys.path.append(\"../src\")\n",
    "from dynamics import Dynamics\n",
    "from segment import Segment\n",
    "from direct import Hermite_Simpson, Problem\n",
    "import pygmo as pg, matplotlib.pyplot as plt, numpy as np\n",
    "%matplotlib"
   ]
  },
  {
   "cell_type": "code",
   "execution_count": 2,
   "metadata": {},
   "outputs": [],
   "source": [
    "# boundary conditions\n",
    "s0 = [0, 0, 0, 0]\n",
    "sf = [1, 0, 0, 0]"
   ]
  },
  {
   "cell_type": "code",
   "execution_count": 25,
   "metadata": {},
   "outputs": [],
   "source": [
    "# instantiate direct trajectory optimisation problem with\n",
    "# Hermite Simpson quadrature for nondimensional pendulum dynamics\n",
    "seg   = Segment(Dynamics(), [0,0,0,0], [1,0,0,0], 0, 10)\n",
    "trans = Hermite_Simpson(seg, 40)\n",
    "udp   = Problem(trans)"
   ]
  },
  {
   "cell_type": "code",
   "execution_count": 26,
   "metadata": {},
   "outputs": [],
   "source": [
    "# setup nonlinear programing problem with PyGMO and IPOPT\n",
    "prob = pg.problem(udp)\n",
    "pop  = pg.population(prob, 1)\n",
    "algo = pg.algorithm(pg.ipopt())\n",
    "algo.set_verbosity(1)"
   ]
  },
  {
   "cell_type": "code",
   "execution_count": 27,
   "metadata": {},
   "outputs": [],
   "source": [
    "# solve problem\n",
    "pop = algo.evolve(pop)"
   ]
  },
  {
   "cell_type": "code",
   "execution_count": 17,
   "metadata": {},
   "outputs": [
    {
     "data": {
      "text/plain": [
       "Problem name: <class 'direct.Problem'>\n",
       "\tGlobal dimension:\t\t\t101\n",
       "\tInteger dimension:\t\t\t0\n",
       "\tFitness dimension:\t\t\t85\n",
       "\tNumber of objectives:\t\t\t1\n",
       "\tEquality constraints dimension:\t\t84\n",
       "\tInequality constraints dimension:\t0\n",
       "\tTolerances on constraints: [0, 0, 0, 0, 0, ... ]\n",
       "\tLower bounds: [0, -5, -3, 0, -1, ... ]\n",
       "\tUpper bounds: [100, 5, 3, 6.28319, 1, ... ]\n",
       "\n",
       "\tHas gradient: true\n",
       "\tUser implemented gradient sparsity: false\n",
       "\tExpected gradients: 8585\n",
       "\tHas hessians: false\n",
       "\tUser implemented hessians sparsity: false\n",
       "\n",
       "\tFitness evaluations: 294\n",
       "\tGradient evaluations: 223\n",
       "\n",
       "\tThread safety: none\n",
       "\n",
       "Population size: 1\n",
       "\n",
       "List of individuals: \n",
       "#0:\n",
       "\tID:\t\t\t10187736201103393847\n",
       "\tDecision vector:\t[100, 0, 0, 0, 0, ... ]\n",
       "\tFitness vector:\t\t[22.4321, 4.52929e-08, 1.79476e-08, -7.4094e-08, 5.14912e-08, ... ]\n",
       "\n",
       "Champion decision vector: [100, 0, 0, 0, 0, ... ]\n",
       "Champion fitness: [22.4321, 4.52929e-08, 1.79476e-08, -7.4094e-08, 5.14912e-08, ... ]"
      ]
     },
     "execution_count": 17,
     "metadata": {},
     "output_type": "execute_result"
    }
   ],
   "source": [
    "pop"
   ]
  },
  {
   "cell_type": "code",
   "execution_count": 28,
   "metadata": {},
   "outputs": [
    {
     "data": {
      "text/plain": [
       "array([ 4.12512054e+01,  2.77555756e-17,  3.33066907e-16, -3.33066907e-16,\n",
       "        0.00000000e+00,  2.22044605e-16,  3.33066907e-16,  0.00000000e+00,\n",
       "        6.66133815e-16,  5.55111512e-17, -3.33066907e-16, -8.88178420e-16,\n",
       "       -1.05471187e-15, -2.22044605e-16,  2.22044605e-16, -8.88178420e-16,\n",
       "       -4.44089210e-16, -2.22044605e-16,  2.22044605e-16,  4.44089210e-16,\n",
       "        1.99840144e-15,  6.10622664e-16,  0.00000000e+00,  2.22044605e-15,\n",
       "       -2.22044605e-16,  0.00000000e+00, -4.44089210e-16, -1.77635684e-15,\n",
       "       -2.77555756e-15, -2.77555756e-17,  1.66533454e-16, -3.55271368e-15,\n",
       "        1.33226763e-15,  2.22044605e-16,  6.66133815e-16,  2.88657986e-15,\n",
       "        3.88578059e-15,  0.00000000e+00, -1.11022302e-16,  7.54951657e-15,\n",
       "       -1.77635684e-15, -6.66133815e-16, -1.11022302e-16, -4.44089210e-15,\n",
       "       -1.05471187e-14, -3.33066907e-16, -2.22044605e-16, -1.11022302e-14,\n",
       "        1.66533454e-15,  4.44089210e-16,  2.22044605e-16,  5.10702591e-15,\n",
       "        1.63202785e-14,  8.88178420e-16, -3.33066907e-16,  2.04281037e-14,\n",
       "       -1.66533454e-15, -4.44089210e-16, -1.11022302e-15, -1.15463195e-14,\n",
       "       -3.26405569e-14, -5.55111512e-17, -5.55111512e-16, -3.90798505e-14,\n",
       "        5.77315973e-15,  4.44089210e-16, -5.55111512e-16,  1.70974346e-14,\n",
       "        5.60662627e-14,  0.00000000e+00, -1.22124533e-15,  7.01660952e-14,\n",
       "       -6.21724894e-15,  4.44089210e-16, -1.55431223e-15, -3.90798505e-14,\n",
       "       -1.05915277e-13,  8.44827930e-10,  8.57857452e-10,  7.07771619e-10,\n",
       "        7.18846538e-10,  8.44827763e-10,  4.28929159e-09,  7.07970571e-10,\n",
       "        2.85318180e-09, -2.00411776e-09, -2.03503203e-09, -1.67644743e-09,\n",
       "       -1.70257541e-09, -2.00411754e-09, -1.01751536e-08, -1.67681335e-09,\n",
       "       -6.77150813e-09,  2.55171551e-09,  2.59107247e-09,  2.13255236e-09,\n",
       "        2.16597273e-09,  2.55171584e-09,  1.29553697e-08,  2.13322893e-09,\n",
       "        8.62414951e-09, -2.87273139e-09, -2.91704449e-09, -2.87777402e-09,\n",
       "       -1.87233484e-09, -2.87273250e-09, -1.45852121e-08, -2.87903301e-09,\n",
       "       -9.97600524e-09,  3.03686526e-09,  3.08370518e-09,  6.05602102e-09,\n",
       "       -1.58197988e-09,  3.03686642e-09,  1.54185367e-08,  6.05835981e-09,\n",
       "        1.22184461e-08, -3.12803761e-09, -3.17628912e-09, -9.51003365e-09,\n",
       "        5.49533619e-09, -3.12803783e-09, -1.58814342e-08, -9.51438750e-09,\n",
       "       -1.44016491e-08,  3.17621152e-09,  3.22519922e-09,  1.07733049e-08,\n",
       "       -6.90140967e-09,  3.17621185e-09,  1.61260092e-08,  1.07814342e-08,\n",
       "        1.52477216e-08, -3.20242566e-09, -3.25182548e-09, -1.16300285e-08,\n",
       "        7.87023469e-09, -3.20242677e-09, -1.62591136e-08, -1.16454340e-08,\n",
       "       -1.58096808e-08,  3.22537652e-09,  3.27512251e-09,  1.24894850e-08,\n",
       "       -8.85479401e-09,  1.35573774e-11,  1.31142676e-08,  2.20795360e-08,\n",
       "        1.93285567e-01, -3.21181937e-09, -1.63068036e-08,  9.52475426e-09,\n",
       "        2.52724557e-08,  3.07738146e-09,  3.12484399e-09, -3.07733518e-09,\n",
       "       -3.13412010e-09, -4.22679523e-17, -3.55640044e-16,  1.41252275e-13,\n",
       "       -3.46500239e-16,  2.22044605e-16, -4.49584983e-15,  9.39622391e-12,\n",
       "       -6.18302826e-12])"
      ]
     },
     "execution_count": 28,
     "metadata": {},
     "output_type": "execute_result"
    }
   ],
   "source": [
    "udp.fitness(pop.champion_x)"
   ]
  },
  {
   "cell_type": "code",
   "execution_count": 29,
   "metadata": {},
   "outputs": [],
   "source": [
    "x = udp.transcription.states[:,0] + np.sin(udp.transcription.states[:,2])\n",
    "y = np.cos(udp.transcription.states[:,2])\n",
    "\n",
    "fig, ax = plt.subplots(1)\n",
    "ax.plot(x, y, \"k.-\")\n",
    "ax.set_aspect(\"equal\")\n",
    "plt.show()"
   ]
  },
  {
   "cell_type": "code",
   "execution_count": null,
   "metadata": {},
   "outputs": [],
   "source": []
  }
 ],
 "metadata": {
  "kernelspec": {
   "display_name": "Python 3",
   "language": "python",
   "name": "python3"
  },
  "language_info": {
   "codemirror_mode": {
    "name": "ipython",
    "version": 3
   },
   "file_extension": ".py",
   "mimetype": "text/x-python",
   "name": "python",
   "nbconvert_exporter": "python",
   "pygments_lexer": "ipython3",
   "version": "3.7.0"
  }
 },
 "nbformat": 4,
 "nbformat_minor": 2
}
