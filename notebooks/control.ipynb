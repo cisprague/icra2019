{
 "cells": [
  {
   "cell_type": "code",
   "execution_count": 1,
   "metadata": {},
   "outputs": [],
   "source": [
    "import sys; sys.path.append(\"../src2\")\n",
    "from pendulum import *\n",
    "import numpy as np, matplotlib.pyplot as plt\n",
    "from scipy.optimize import newton"
   ]
  },
  {
   "cell_type": "code",
   "execution_count": null,
   "metadata": {},
   "outputs": [],
   "source": [
    "class srinivasan(object):\n",
    "    \n",
    "    def __init__(self, kx, kv, kt, kw, um):\n",
    "        \n",
    "        # gains\n",
    "        self.kx = kx\n",
    "        self.kv = kv\n",
    "        self.kt = kt\n",
    "        self.kw = kw\n",
    "        \n",
    "        # max input\n",
    "        self.um = um\n",
    "        \n",
    "        # initial reference angle\n",
    "        self.tr = 0\n",
    "        \n",
    "        # theta tildes\n",
    "        self.ttl = np.array([newton(lambda tt: self.eq_tt(tt, tr), 4*np.pi) for tr in [-2*np.pi, 0, 2*np.pi]])\n",
    "        print(self.ttl)\n",
    "        \n",
    "    def eq_tt(self, tt, tr):\n",
    "        xm = np.pi**2*(np.pi+self.um)\n",
    "        vm = np.pi*self.um\n",
    "        return self.kt*(tt-tr) + np.sin(tt) + self.kt*np.arctan(self.kx*xm + self.kv*vm) - self.um*np.cos(tt)\n",
    "    \n",
    "    def gen_tt(self, tr):\n",
    "        if tr == -2*np.pi:\n",
    "            tt = self.ttl[0]\n",
    "        elif tr == 0:\n",
    "            tt = self.ttl[1]\n",
    "        elif tr == 2*np.pi:\n",
    "            tt = self.ttl[2]\n",
    "        return tt\n",
    "        \n",
    "    def gen_tr(self, t, tr):\n",
    "        dt = t - tr\n",
    "        tt = self.gen_tt(tr)\n",
    "        if -np.pi <= dt and dt < -tt:\n",
    "            return tr - 2*np.pi\n",
    "        elif -tt <= dt and dt <= tt:\n",
    "            return tr\n",
    "        elif tt < dt and np.pi:\n",
    "            return tr + 2*np.pi\n",
    "        \n",
    "    def gen_u(self, state, tr):\n",
    "        x, v, t, w = state\n",
    "        uus = self.kt*(t-tr) + self.kw*w + np.sin(t) + self.kt*np.arctan(self.kx*x + self.kv*v)\n",
    "        u = np.clip(uus, -self.um, self.um)\n",
    "        return u\n",
    "    \n",
    "    def __call__(self, time, state):\n",
    "        return self.gen_u(state, self.tr)\n",
    "    \n",
    "    def control(self, time, state):\n",
    "        x, v, t, w = state\n",
    "        u = self.gen_u(state, self.tr)\n",
    "        self.tr = self.gen_tr(t, self.tr)\n",
    "        return u\n",
    "        "
   ]
  },
  {
   "cell_type": "code",
   "execution_count": 19,
   "metadata": {},
   "outputs": [],
   "source": [
    "cont = srinivasan(0.25, 0.4, 13, 2.6, 1)"
   ]
  },
  {
   "cell_type": "code",
   "execution_count": 45,
   "metadata": {},
   "outputs": [],
   "source": [
    "cont = srinivasan(0.01, 0.02, 12.1, 5.1, 1)\n",
    "x0 = [0,0,np.pi,0]\n",
    "dyn  = dynamics(x0,[0,0,0,0], 0)"
   ]
  },
  {
   "cell_type": "code",
   "execution_count": 46,
   "metadata": {},
   "outputs": [
    {
     "data": {
      "image/png": "[encoded data removed]",
      "text/plain": [
       "<Figure size 432x288 with 1 Axes>"
      ]
     },
     "metadata": {},
     "output_type": "display_data"
    },
    {
     "data": {
      "image/png": "[encoded data removed]",
      "text/plain": [
       "<Figure size 432x288 with 1 Axes>"
      ]
     },
     "metadata": {},
     "output_type": "display_data"
    },
    {
     "data": {
      "image/png": "[encoded data removed]",
      "text/plain": [
       "<Figure size 432x288 with 5 Axes>"
      ]
     },
     "metadata": {},
     "output_type": "display_data"
    }
   ],
   "source": [
    "t, x, u = dyn.propagate_controlled(30, cont)\n",
    "plot_traj(x, arm=True, n=500)\n",
    "ax = plot_controls(t, u)\n",
    "ax = plot_states(t, x, u)"
   ]
  },
  {
   "cell_type": "code",
   "execution_count": null,
   "metadata": {},
   "outputs": [],
   "source": [
    "np.pi*0.999%np.pi"
   ]
  },
  {
   "cell_type": "code",
   "execution_count": null,
   "metadata": {},
   "outputs": [],
   "source": []
  }
 ],
 "metadata": {
  "kernelspec": {
   "display_name": "Python 3",
   "language": "python",
   "name": "python3"
  },
  "language_info": {
   "codemirror_mode": {
    "name": "ipython",
    "version": 3
   },
   "file_extension": ".py",
   "mimetype": "text/x-python",
   "name": "python",
   "nbconvert_exporter": "python",
   "pygments_lexer": "ipython3",
   "version": "3.7.0"
  }
 },
 "nbformat": 4,
 "nbformat_minor": 2
}
