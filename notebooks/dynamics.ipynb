{
 "cells": [
  {
   "cell_type": "markdown",
   "metadata": {},
   "source": [
    "# Derrivation\n",
    "We'll derrive the first order equations of motion for an inverted pendulum on a cart, also known as a cartpole, using `sympy`.\n",
    "We'll use the equations from [B. Srinivasan et al.](https://www.sciencedirect.com/science/article/pii/S0005109808004172)"
   ]
  },
  {
   "cell_type": "code",
   "execution_count": 1,
   "metadata": {},
   "outputs": [],
   "source": [
    "from sympy import *\n",
    "init_printing()"
   ]
  },
  {
   "cell_type": "markdown",
   "metadata": {},
   "source": [
    "## State dynamics\n",
    "\n",
    "Let's define the state symbols"
   ]
  },
  {
   "cell_type": "code",
   "execution_count": 2,
   "metadata": {},
   "outputs": [
    {
     "data": {
      "text/latex": [
       "$$\\left[\\begin{matrix}p & v & \\theta & \\omega\\end{matrix}\\right]$$"
      ],
      "text/plain": [
       "[p  v  \\theta  \\omega]"
      ]
     },
     "execution_count": 2,
     "metadata": {},
     "output_type": "execute_result"
    }
   ],
   "source": [
    "p, v, theta, omega = symbols('p v \\\\theta \\\\omega')\n",
    "s = Matrix([p, v, theta, omega])\n",
    "s.T"
   ]
  },
  {
   "cell_type": "markdown",
   "metadata": {},
   "source": [
    "Now let's define some constant parameters"
   ]
  },
  {
   "cell_type": "code",
   "execution_count": 3,
   "metadata": {},
   "outputs": [],
   "source": [
    "# total mass, arm mass, arm length, intertia, gravity, arm inertia\n",
    "m, mu, g, J = symbols('m \\\\mu g, J')"
   ]
  },
  {
   "cell_type": "markdown",
   "metadata": {},
   "source": [
    "And finally, the control force input"
   ]
  },
  {
   "cell_type": "code",
   "execution_count": 4,
   "metadata": {},
   "outputs": [],
   "source": [
    "u = symbols('u')"
   ]
  },
  {
   "cell_type": "markdown",
   "metadata": {},
   "source": [
    "Let's put together the translational equations of motion"
   ]
  },
  {
   "cell_type": "code",
   "execution_count": 5,
   "metadata": {},
   "outputs": [
    {
     "data": {
      "image/png": "[encoded data removed]",
      "text/latex": [
       "$$\\frac{J \\left(\\mu \\omega^{2} \\sin{\\left (\\theta \\right )} + u\\right) - \\mu^{2} g \\sin{\\left (\\theta \\right )} \\cos{\\left (\\theta \\right )}}{J m - \\mu^{2} \\cos^{2}{\\left (\\theta \\right )}}$$"
      ],
      "text/plain": [
       "  ⎛          2                ⎞      2                          \n",
       "J⋅⎝\\mu⋅\\omega ⋅sin(\\theta) + u⎠ - \\mu ⋅g⋅sin(\\theta)⋅cos(\\theta)\n",
       "────────────────────────────────────────────────────────────────\n",
       "                             2    2                             \n",
       "                    J⋅m - \\mu ⋅cos (\\theta)                     "
      ]
     },
     "execution_count": 5,
     "metadata": {},
     "output_type": "execute_result"
    }
   ],
   "source": [
    "dp = v # velocity\n",
    "dv = J*(u+mu*omega**2*sin(theta)) - mu**2*g*sin(theta)*cos(theta)\n",
    "dv /= m*J-mu**2*cos(theta)**2\n",
    "dv"
   ]
  },
  {
   "cell_type": "markdown",
   "metadata": {},
   "source": [
    "And now the rotational equations of motion"
   ]
  },
  {
   "cell_type": "code",
   "execution_count": 6,
   "metadata": {},
   "outputs": [
    {
     "data": {
      "image/png": "[encoded data removed]",
      "text/latex": [
       "$$\\frac{\\mu g m \\sin{\\left (\\theta \\right )} - \\mu \\left(\\mu \\omega^{2} \\sin{\\left (\\theta \\right )} + u\\right) \\cos{\\left (\\theta \\right )}}{J m - \\mu^{2} \\cos^{2}{\\left (\\theta \\right )}}$$"
      ],
      "text/plain": [
       "                          ⎛          2                ⎞            \n",
       "\\mu⋅g⋅m⋅sin(\\theta) - \\mu⋅⎝\\mu⋅\\omega ⋅sin(\\theta) + u⎠⋅cos(\\theta)\n",
       "───────────────────────────────────────────────────────────────────\n",
       "                               2    2                              \n",
       "                      J⋅m - \\mu ⋅cos (\\theta)                      "
      ]
     },
     "execution_count": 6,
     "metadata": {},
     "output_type": "execute_result"
    }
   ],
   "source": [
    "dtheta = omega\n",
    "domega = m*mu*g*sin(theta)-mu*cos(theta)*(u+mu*omega**2*sin(theta))\n",
    "domega /= m*J-mu**2*cos(theta)**2\n",
    "domega"
   ]
  },
  {
   "cell_type": "markdown",
   "metadata": {},
   "source": [
    "Now, let's put it all together in a system of ODEs in the form $\\mathbf{f}(\\pmb{s}, \\pmb{u})$"
   ]
  },
  {
   "cell_type": "code",
   "execution_count": 7,
   "metadata": {},
   "outputs": [
    {
     "data": {
      "text/latex": [
       "$$\\left[\\begin{matrix}v\\\\\\frac{J \\left(\\mu \\omega^{2} \\sin{\\left (\\theta \\right )} + u\\right) - \\frac{\\mu^{2} g \\sin{\\left (2 \\theta \\right )}}{2}}{J m - \\mu^{2} \\cos^{2}{\\left (\\theta \\right )}}\\\\\\omega\\\\\\frac{\\mu \\left(g m \\sin{\\left (\\theta \\right )} - \\left(\\mu \\omega^{2} \\sin{\\left (\\theta \\right )} + u\\right) \\cos{\\left (\\theta \\right )}\\right)}{J m - \\mu^{2} \\cos^{2}{\\left (\\theta \\right )}}\\end{matrix}\\right]$$"
      ],
      "text/plain": [
       "⎡                                v                                ⎤\n",
       "⎢                                                                 ⎥\n",
       "⎢                                          2                      ⎥\n",
       "⎢       ⎛          2                ⎞   \\mu ⋅g⋅sin(2⋅\\theta)      ⎥\n",
       "⎢     J⋅⎝\\mu⋅\\omega ⋅sin(\\theta) + u⎠ - ────────────────────      ⎥\n",
       "⎢                                                2                ⎥\n",
       "⎢     ──────────────────────────────────────────────────────      ⎥\n",
       "⎢                             2    2                              ⎥\n",
       "⎢                    J⋅m - \\mu ⋅cos (\\theta)                      ⎥\n",
       "⎢                                                                 ⎥\n",
       "⎢                             \\omega                              ⎥\n",
       "⎢                                                                 ⎥\n",
       "⎢    ⎛                  ⎛          2                ⎞            ⎞⎥\n",
       "⎢\\mu⋅⎝g⋅m⋅sin(\\theta) - ⎝\\mu⋅\\omega ⋅sin(\\theta) + u⎠⋅cos(\\theta)⎠⎥\n",
       "⎢─────────────────────────────────────────────────────────────────⎥\n",
       "⎢                              2    2                             ⎥\n",
       "⎣                     J⋅m - \\mu ⋅cos (\\theta)                     ⎦"
      ]
     },
     "execution_count": 7,
     "metadata": {},
     "output_type": "execute_result"
    }
   ],
   "source": [
    "ds = simplify(Matrix([dp, dv, dtheta, domega]))\n",
    "ds"
   ]
  },
  {
   "cell_type": "markdown",
   "metadata": {},
   "source": [
    "## Optimal control\n",
    "Now, let's derrive the necessary components of Pontryagin's maximum principle."
   ]
  },
  {
   "cell_type": "markdown",
   "metadata": {},
   "source": [
    "First we need to define a dynamics cost function, known as the Lagrangian. Here, we'll also use a so called homotopy parameter to modulate the function."
   ]
  },
  {
   "cell_type": "code",
   "execution_count": 8,
   "metadata": {},
   "outputs": [
    {
     "data": {
      "image/png": "[encoded data removed]",
      "text/latex": [
       "$$\\alpha u + u^{2} \\left(- \\alpha + 1\\right)$$"
      ],
      "text/plain": [
       "            2              \n",
       "\\alpha⋅u + u ⋅(-\\alpha + 1)"
      ]
     },
     "execution_count": 8,
     "metadata": {},
     "output_type": "execute_result"
    }
   ],
   "source": [
    "alpha = symbols('\\\\alpha') # homotopy parameter\n",
    "L = (1-alpha)*u**2 + alpha*u # Lagrangian\n",
    "L"
   ]
  },
  {
   "cell_type": "markdown",
   "metadata": {},
   "source": [
    "Next, we must define the so-called costate variables"
   ]
  },
  {
   "cell_type": "code",
   "execution_count": 9,
   "metadata": {},
   "outputs": [
    {
     "data": {
      "text/latex": [
       "$$\\left[\\begin{matrix}\\lambda_p & \\lambda_v & \\lambda_\\theta & \\lambda_\\omega\\end{matrix}\\right]$$"
      ],
      "text/plain": [
       "[\\lambdaₚ  \\lambdaᵥ  \\lambda_\\theta  \\lambda_\\omega]"
      ]
     },
     "execution_count": 9,
     "metadata": {},
     "output_type": "execute_result"
    }
   ],
   "source": [
    "l = Matrix([symbols('\\\\lambda_{}'.format(var)) for var in s])\n",
    "l.T"
   ]
  },
  {
   "cell_type": "markdown",
   "metadata": {},
   "source": [
    "Now we have what we need to define the Hamiltonian\n",
    "$H = \\pmb{\\lambda}^\\intercal \\pmb{f} + L$"
   ]
  },
  {
   "cell_type": "code",
   "execution_count": 10,
   "metadata": {},
   "outputs": [
    {
     "data": {
      "image/png": "[encoded data removed]",
      "text/latex": [
       "$$\\alpha u + \\frac{\\lambda_\\omega \\mu \\left(g m \\sin{\\left (\\theta \\right )} - \\left(\\mu \\omega^{2} \\sin{\\left (\\theta \\right )} + u\\right) \\cos{\\left (\\theta \\right )}\\right)}{J m - \\mu^{2} \\cos^{2}{\\left (\\theta \\right )}} + \\lambda_\\theta \\omega + \\lambda_p v + \\frac{\\lambda_v \\left(J \\left(\\mu \\omega^{2} \\sin{\\left (\\theta \\right )} + u\\right) - \\frac{\\mu^{2} g \\sin{\\left (2 \\theta \\right )}}{2}\\right)}{J m - \\mu^{2} \\cos^{2}{\\left (\\theta \\right )}} + u^{2} \\left(- \\alpha + 1\\right)$$"
      ],
      "text/plain": [
       "                                                                              \n",
       "                                                                              \n",
       "                              ⎛                  ⎛          2                ⎞\n",
       "           \\lambda_\\omega⋅\\mu⋅⎝g⋅m⋅sin(\\theta) - ⎝\\mu⋅\\omega ⋅sin(\\theta) + u⎠\n",
       "\\alpha⋅u + ───────────────────────────────────────────────────────────────────\n",
       "                                                2    2                        \n",
       "                                       J⋅m - \\mu ⋅cos (\\theta)                \n",
       "\n",
       "                                                              ⎛               \n",
       "                                                              ⎜  ⎛          2 \n",
       "            ⎞                                        \\lambdaᵥ⋅⎜J⋅⎝\\mu⋅\\omega ⋅\n",
       "⋅cos(\\theta)⎠                                                 ⎝               \n",
       "───────────── + \\lambda_\\theta⋅\\omega + \\lambdaₚ⋅v + ─────────────────────────\n",
       "                                                                              \n",
       "                                                                          J⋅m \n",
       "\n",
       "                      2                ⎞                   \n",
       "               ⎞   \\mu ⋅g⋅sin(2⋅\\theta)⎟                   \n",
       "sin(\\theta) + u⎠ - ────────────────────⎟                   \n",
       "                            2          ⎠    2              \n",
       "──────────────────────────────────────── + u ⋅(-\\alpha + 1)\n",
       "     2    2                                                \n",
       "- \\mu ⋅cos (\\theta)                                        "
      ]
     },
     "execution_count": 10,
     "metadata": {},
     "output_type": "execute_result"
    }
   ],
   "source": [
    "H = l.dot(ds) + L\n",
    "collect(H, l)"
   ]
  },
  {
   "cell_type": "markdown",
   "metadata": {},
   "source": [
    "A lá Pontryagin, the optimal control will maximise the Hamiltonian, so let's find $\\text{argmax}_u(H)$"
   ]
  },
  {
   "cell_type": "code",
   "execution_count": 11,
   "metadata": {},
   "outputs": [
    {
     "data": {
      "image/png": "[encoded data removed]",
      "text/latex": [
       "$$\\frac{J \\alpha m + J \\lambda_v - \\alpha \\mu^{2} \\cos^{2}{\\left (\\theta \\right )} - \\lambda_\\omega \\mu \\cos{\\left (\\theta \\right )}}{2 \\left(J \\alpha m - J m - \\alpha \\mu^{2} \\cos^{2}{\\left (\\theta \\right )} + \\mu^{2} \\cos^{2}{\\left (\\theta \\right )}\\right)}$$"
      ],
      "text/plain": [
       "                                    2    2                                    \n",
       "J⋅\\alpha⋅m + J⋅\\lambdaᵥ - \\alpha⋅\\mu ⋅cos (\\theta) - \\lambda_\\omega⋅\\mu⋅cos(\\t\n",
       "──────────────────────────────────────────────────────────────────────────────\n",
       "          ⎛                             2    2              2    2        ⎞   \n",
       "        2⋅⎝J⋅\\alpha⋅m - J⋅m - \\alpha⋅\\mu ⋅cos (\\theta) + \\mu ⋅cos (\\theta)⎠   \n",
       "\n",
       "     \n",
       "heta)\n",
       "─────\n",
       "     \n",
       "     "
      ]
     },
     "execution_count": 11,
     "metadata": {},
     "output_type": "execute_result"
    }
   ],
   "source": [
    "uo = simplify(solve(H.diff(u), u)[0])\n",
    "uo"
   ]
  },
  {
   "cell_type": "markdown",
   "metadata": {},
   "source": [
    "This is the optimal control. That wouldn't be very fun to solve for by hand!"
   ]
  },
  {
   "cell_type": "markdown",
   "metadata": {},
   "source": [
    "## Normalised state dynamics\n",
    "We can normalise the previous system with a new input and time scale to get nicer equations of motion."
   ]
  },
  {
   "cell_type": "code",
   "execution_count": 12,
   "metadata": {},
   "outputs": [
    {
     "data": {
      "text/latex": [
       "$$\\left[\\begin{matrix}y & \\dot{y} & \\theta & \\dot{\\theta}\\end{matrix}\\right]$$"
      ],
      "text/plain": [
       "[y  \\dot{y}  \\theta  \\dot{\\theta}]"
      ]
     },
     "execution_count": 12,
     "metadata": {},
     "output_type": "execute_result"
    }
   ],
   "source": [
    "# new state symbols and control\n",
    "y, dy, theta, dtheta, v = symbols('y \\\\dot{y} \\\\theta \\\\dot{\\\\theta} v')\n",
    "s = Matrix([y, dy, theta, dtheta]); s.T"
   ]
  },
  {
   "cell_type": "code",
   "execution_count": 13,
   "metadata": {},
   "outputs": [
    {
     "data": {
      "text/latex": [
       "$$\\left[\\begin{matrix}\\dot{y} & v & \\dot{\\theta} & - v \\cos{\\left (\\theta \\right )} + \\sin{\\left (\\theta \\right )}\\end{matrix}\\right]$$"
      ],
      "text/plain": [
       "[\\dot{y}  v  \\dot{\\theta}  -v⋅cos(\\theta) + sin(\\theta)]"
      ]
     },
     "execution_count": 13,
     "metadata": {},
     "output_type": "execute_result"
    }
   ],
   "source": [
    "# state dynamics\n",
    "ds = Matrix([dy, v, dtheta, sin(theta) - v*cos(theta)])\n",
    "ds.T"
   ]
  },
  {
   "cell_type": "markdown",
   "metadata": {},
   "source": [
    "Now we compute the Jacobian of the state dynamics:"
   ]
  },
  {
   "cell_type": "code",
   "execution_count": 14,
   "metadata": {},
   "outputs": [
    {
     "data": {
      "text/latex": [
       "$$\\left[\\begin{matrix}0 & 1 & 0 & 0\\\\0 & 0 & 0 & 0\\\\0 & 0 & 0 & 1\\\\0 & 0 & v \\sin{\\left (\\theta \\right )} + \\cos{\\left (\\theta \\right )} & 0\\end{matrix}\\right]$$"
      ],
      "text/plain": [
       "⎡0  1               0               0⎤\n",
       "⎢                                    ⎥\n",
       "⎢0  0               0               0⎥\n",
       "⎢                                    ⎥\n",
       "⎢0  0               0               1⎥\n",
       "⎢                                    ⎥\n",
       "⎣0  0  v⋅sin(\\theta) + cos(\\theta)  0⎦"
      ]
     },
     "execution_count": 14,
     "metadata": {},
     "output_type": "execute_result"
    }
   ],
   "source": [
    "dds = ds.jacobian(s); dds"
   ]
  },
  {
   "cell_type": "markdown",
   "metadata": {},
   "source": [
    "## Normalised optimal control\n",
    "\n",
    "Now that we have the nondimensional equations of motion, we can again compute the optimal control.\n",
    "\n",
    "First we redefine the Lagrangian:"
   ]
  },
  {
   "cell_type": "code",
   "execution_count": 15,
   "metadata": {},
   "outputs": [
    {
     "data": {
      "image/png": "[encoded data removed]",
      "text/latex": [
       "$$\\alpha v + v^{2} \\left(- \\alpha + 1\\right)$$"
      ],
      "text/plain": [
       "            2              \n",
       "\\alpha⋅v + v ⋅(-\\alpha + 1)"
      ]
     },
     "execution_count": 15,
     "metadata": {},
     "output_type": "execute_result"
    }
   ],
   "source": [
    "alpha = symbols('\\\\alpha') # homotopy parameter\n",
    "L = (1-alpha)*v**2 + alpha*v # Lagrangian\n",
    "L"
   ]
  },
  {
   "cell_type": "markdown",
   "metadata": {},
   "source": [
    "Then we again define the costate variables:"
   ]
  },
  {
   "cell_type": "code",
   "execution_count": 16,
   "metadata": {},
   "outputs": [
    {
     "data": {
      "text/latex": [
       "$$\\left[\\begin{matrix}\\lambda_y & \\lambda_\\dot{y} & \\lambda_\\theta & \\lambda_\\dot{\\theta}\\end{matrix}\\right]$$"
      ],
      "text/plain": [
       "[\\lambda_y  \\lambda_\\dot{y}  \\lambda_\\theta  \\lambda_\\dot{\\theta}]"
      ]
     },
     "execution_count": 16,
     "metadata": {},
     "output_type": "execute_result"
    }
   ],
   "source": [
    "l = Matrix([symbols('\\\\lambda_{}'.format(var)) for var in s])\n",
    "l.T"
   ]
  },
  {
   "cell_type": "markdown",
   "metadata": {},
   "source": [
    "Then define the Hamiltonian again"
   ]
  },
  {
   "cell_type": "code",
   "execution_count": 17,
   "metadata": {},
   "outputs": [
    {
     "data": {
      "image/png": "[encoded data removed]",
      "text/latex": [
       "$$\\alpha v + \\dot{\\theta} \\lambda_\\theta + \\dot{y} \\lambda_y + \\lambda_\\dot{\\theta} \\left(- v \\cos{\\left (\\theta \\right )} + \\sin{\\left (\\theta \\right )}\\right) + \\lambda_\\dot{y} v + v^{2} \\left(- \\alpha + 1\\right)$$"
      ],
      "text/plain": [
       "                                                                              \n",
       "\\alpha⋅v + \\dot{\\theta}⋅\\lambda_\\theta + \\dot{y}⋅\\lambda_y + \\lambda_\\dot{\\the\n",
       "\n",
       "                                                          2              \n",
       "ta}⋅(-v⋅cos(\\theta) + sin(\\theta)) + \\lambda_\\dot{y}⋅v + v ⋅(-\\alpha + 1)"
      ]
     },
     "execution_count": 17,
     "metadata": {},
     "output_type": "execute_result"
    }
   ],
   "source": [
    "H = l.dot(ds) + L\n",
    "collect(H, l)"
   ]
  },
  {
   "cell_type": "markdown",
   "metadata": {},
   "source": [
    "And again, compute the optimal control alla moda di Pontryagin:"
   ]
  },
  {
   "cell_type": "code",
   "execution_count": 18,
   "metadata": {},
   "outputs": [
    {
     "data": {
      "image/png": "[encoded data removed]",
      "text/latex": [
       "$$\\frac{\\alpha - \\lambda_\\dot{\\theta} \\cos{\\left (\\theta \\right )} + \\lambda_\\dot{y}}{2 \\left(\\alpha - 1\\right)}$$"
      ],
      "text/plain": [
       "\\alpha - \\lambda_\\dot{\\theta}⋅cos(\\theta) + \\lambda_\\dot{y}\n",
       "───────────────────────────────────────────────────────────\n",
       "                       2⋅(\\alpha - 1)                      "
      ]
     },
     "execution_count": 18,
     "metadata": {},
     "output_type": "execute_result"
    }
   ],
   "source": [
    "uo = solve(H.diff(v), v)[0]; simplify(uo)"
   ]
  },
  {
   "cell_type": "markdown",
   "metadata": {},
   "source": [
    "To actually implement this, we need to compute the costate equations of motion:"
   ]
  },
  {
   "cell_type": "code",
   "execution_count": 19,
   "metadata": {},
   "outputs": [
    {
     "data": {
      "text/latex": [
       "$$\\left[\\begin{matrix}0\\\\- \\lambda_y\\\\- \\lambda_\\dot{\\theta} \\left(v \\sin{\\left (\\theta \\right )} + \\cos{\\left (\\theta \\right )}\\right)\\\\- \\lambda_\\theta\\end{matrix}\\right]$$"
      ],
      "text/plain": [
       "⎡                         0                         ⎤\n",
       "⎢                                                   ⎥\n",
       "⎢                    -\\lambda_y                     ⎥\n",
       "⎢                                                   ⎥\n",
       "⎢-\\lambda_\\dot{\\theta}⋅(v⋅sin(\\theta) + cos(\\theta))⎥\n",
       "⎢                                                   ⎥\n",
       "⎣                  -\\lambda_\\theta                  ⎦"
      ]
     },
     "execution_count": 19,
     "metadata": {},
     "output_type": "execute_result"
    }
   ],
   "source": [
    "dl = Matrix([-H.diff(var) for var in s]); simplify(dl)"
   ]
  },
  {
   "cell_type": "markdown",
   "metadata": {},
   "source": [
    "Now we can write the fullstate equations of motion"
   ]
  },
  {
   "cell_type": "code",
   "execution_count": 20,
   "metadata": {},
   "outputs": [
    {
     "data": {
      "text/latex": [
       "$$\\left[\\begin{matrix}\\dot{y}\\\\v\\\\\\dot{\\theta}\\\\- v \\cos{\\left (\\theta \\right )} + \\sin{\\left (\\theta \\right )}\\\\0\\\\- \\lambda_y\\\\- \\lambda_\\dot{\\theta} \\left(v \\sin{\\left (\\theta \\right )} + \\cos{\\left (\\theta \\right )}\\right)\\\\- \\lambda_\\theta\\end{matrix}\\right]$$"
      ],
      "text/plain": [
       "⎡                      \\dot{y}                      ⎤\n",
       "⎢                                                   ⎥\n",
       "⎢                         v                         ⎥\n",
       "⎢                                                   ⎥\n",
       "⎢                   \\dot{\\theta}                    ⎥\n",
       "⎢                                                   ⎥\n",
       "⎢           -v⋅cos(\\theta) + sin(\\theta)            ⎥\n",
       "⎢                                                   ⎥\n",
       "⎢                         0                         ⎥\n",
       "⎢                                                   ⎥\n",
       "⎢                    -\\lambda_y                     ⎥\n",
       "⎢                                                   ⎥\n",
       "⎢-\\lambda_\\dot{\\theta}⋅(v⋅sin(\\theta) + cos(\\theta))⎥\n",
       "⎢                                                   ⎥\n",
       "⎣                  -\\lambda_\\theta                  ⎦"
      ]
     },
     "execution_count": 20,
     "metadata": {},
     "output_type": "execute_result"
    }
   ],
   "source": [
    "dfs = Matrix([ds, dl]); dfs"
   ]
  },
  {
   "cell_type": "markdown",
   "metadata": {},
   "source": [
    "And compute the Jacobian:"
   ]
  },
  {
   "cell_type": "code",
   "execution_count": 21,
   "metadata": {},
   "outputs": [
    {
     "data": {
      "text/latex": [
       "$$\\left[\\begin{matrix}0 & 1 & 0 & 0 & 0 & 0 & 0 & 0\\\\0 & 0 & 0 & 0 & 0 & 0 & 0 & 0\\\\0 & 0 & 0 & 1 & 0 & 0 & 0 & 0\\\\0 & 0 & v \\sin{\\left (\\theta \\right )} + \\cos{\\left (\\theta \\right )} & 0 & 0 & 0 & 0 & 0\\\\0 & 0 & 0 & 0 & 0 & 0 & 0 & 0\\\\0 & 0 & 0 & 0 & -1 & 0 & 0 & 0\\\\0 & 0 & \\lambda_\\dot{\\theta} \\left(- v \\cos{\\left (\\theta \\right )} + \\sin{\\left (\\theta \\right )}\\right) & 0 & 0 & 0 & 0 & - v \\sin{\\left (\\theta \\right )} - \\cos{\\left (\\theta \\right )}\\\\0 & 0 & 0 & 0 & 0 & 0 & -1 & 0\\end{matrix}\\right]$$"
      ],
      "text/plain": [
       "⎡0  1                           0                           0  0   0  0       \n",
       "⎢                                                                             \n",
       "⎢0  0                           0                           0  0   0  0       \n",
       "⎢                                                                             \n",
       "⎢0  0                           0                           1  0   0  0       \n",
       "⎢                                                                             \n",
       "⎢0  0              v⋅sin(\\theta) + cos(\\theta)              0  0   0  0       \n",
       "⎢                                                                             \n",
       "⎢0  0                           0                           0  0   0  0       \n",
       "⎢                                                                             \n",
       "⎢0  0                           0                           0  -1  0  0       \n",
       "⎢                                                                             \n",
       "⎢0  0  \\lambda_\\dot{\\theta}⋅(-v⋅cos(\\theta) + sin(\\theta))  0  0   0  0   -v⋅s\n",
       "⎢                                                                             \n",
       "⎣0  0                           0                           0  0   0  -1      \n",
       "\n",
       "         0              ⎤\n",
       "                        ⎥\n",
       "         0              ⎥\n",
       "                        ⎥\n",
       "         0              ⎥\n",
       "                        ⎥\n",
       "         0              ⎥\n",
       "                        ⎥\n",
       "         0              ⎥\n",
       "                        ⎥\n",
       "         0              ⎥\n",
       "                        ⎥\n",
       "in(\\theta) - cos(\\theta)⎥\n",
       "                        ⎥\n",
       "         0              ⎦"
      ]
     },
     "execution_count": 21,
     "metadata": {},
     "output_type": "execute_result"
    }
   ],
   "source": [
    "fs = Matrix([s, l])\n",
    "ddfs = dfs.jacobian(fs); simplify(ddfs)"
   ]
  },
  {
   "cell_type": "code",
   "execution_count": 23,
   "metadata": {},
   "outputs": [
    {
     "data": {
      "image/png": "[encoded data removed]",
      "text/latex": [
       "$$\\alpha v + v^{2} \\left(- \\alpha + 1\\right)$$"
      ],
      "text/plain": [
       "            2              \n",
       "\\alpha⋅v + v ⋅(-\\alpha + 1)"
      ]
     },
     "execution_count": 23,
     "metadata": {},
     "output_type": "execute_result"
    }
   ],
   "source": [
    "L"
   ]
  },
  {
   "cell_type": "code",
   "execution_count": null,
   "metadata": {},
   "outputs": [],
   "source": [
    "H"
   ]
  },
  {
   "cell_type": "code",
   "execution_count": null,
   "metadata": {},
   "outputs": [],
   "source": []
  }
 ],
 "metadata": {
  "kernelspec": {
   "display_name": "Python 3",
   "language": "python",
   "name": "python3"
  },
  "language_info": {
   "codemirror_mode": {
    "name": "ipython",
    "version": 3
   },
   "file_extension": ".py",
   "mimetype": "text/x-python",
   "name": "python",
   "nbconvert_exporter": "python",
   "pygments_lexer": "ipython3",
   "version": "3.7.0"
  }
 },
 "nbformat": 4,
 "nbformat_minor": 2
}
