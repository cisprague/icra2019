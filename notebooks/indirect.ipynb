{
 "cells": [
  {
   "cell_type": "code",
   "execution_count": null,
   "metadata": {},
   "outputs": [],
   "source": [
    "import  sys; sys.path.append(\"../src\")\n",
    "from indirect import Indirect\n",
    "from dynamics import Dynamics\n",
    "from optimisation import *\n",
    "import numpy as np, matplotlib.pyplot as plt\n",
    "from multiprocessing import Pool, cpu_count\n",
    "import seaborn as sn, pandas as pd\n",
    "%matplotlib"
   ]
  },
  {
   "cell_type": "code",
   "execution_count": null,
   "metadata": {},
   "outputs": [],
   "source": [
    "for x0f in x0fl:\n",
    "    try:\n",
    "        \n",
    "        # boundary conditions\n",
    "        x0, xf = x0f\n",
    "        print(x0,xf)\n",
    "        \n",
    "        # instantiate segment\n",
    "        seg = Indirect(x0, xf)\n",
    "        \n",
    "        # load nominal trajectory\n",
    "        nom = np.load(\"../data/nominal_energy/\" + str((x0,xf)) + \".npy\")\n",
    "        \n",
    "        # load random walks\n",
    "        #trajs = np.load(\"../data/walks_energy/\" + str((x0, xf)) + \".npy\")\n",
    "        \n",
    "        # load homotopy dvs\n",
    "        dval = np.load(\"../data/nominal_homotopy/\" + str((x0, xf)) + \".npy\")\n",
    "        \n",
    "        # compute nominal trajectory duration\n",
    "        T = nom[-1,0] - nom[0,0]\n",
    "        \n",
    "        # nominal trajectory initial costates\n",
    "        l0 = nom[0,1+seg.xdim:1+2*seg.xdim]\n",
    "        \n",
    "        # compute nominal trajectory\n",
    "        tl, xl, ul = seg.propagate(T, l0, 0, controls=True)\n",
    "        \n",
    "        # plot nominal trajectory\n",
    "        ax = seg.plot_traj(xl)\n",
    "        \n",
    "        # plot controls\n",
    "        fig, ax0 = plt.subplots(1)\n",
    "        ax0.plot(tl, ul, \"k-\")\n",
    "        ax0.set_aspect(\"equal\")\n",
    "        \n",
    "        # plot each trajectory\n",
    "        '''\n",
    "        for traj in trajs:\n",
    "            \n",
    "            # compute endpoints\n",
    "            x = traj[:,1] + np.sin(traj[:,3])\n",
    "            y = np.cos(traj[:,3])\n",
    "            \n",
    "            # plot\n",
    "            ax.plot(x, y, \"k-\", alpha=0.1)\n",
    "        '''\n",
    "        \n",
    "        for dva in dval:\n",
    "            dv, alpha = dva[:-1], dva[-1]\n",
    "            T, l0 = seg.decode(dv)\n",
    "            tl, xl, ul = seg.propagate(T, l0, alpha, controls=True)\n",
    "            x = xl[:,0] + np.sin(xl[:,2])\n",
    "            y = np.cos(xl[:,2])\n",
    "            ax.plot(x, y, \"k-\", alpha=0.1)\n",
    "            ax0.plot(tl, ul, \"k-\", alpha=0.1)\n",
    "        print(alpha)\n",
    "        \n",
    "    except Exception as e:\n",
    "        print(e)\n",
    "        continue"
   ]
  },
  {
   "cell_type": "code",
   "execution_count": null,
   "metadata": {},
   "outputs": [],
   "source": [
    "np.load(\"../data/nominal_\")"
   ]
  },
  {
   "cell_type": "code",
   "execution_count": null,
   "metadata": {},
   "outputs": [],
   "source": [
    "#random_walks_energy((x0,xf))"
   ]
  },
  {
   "cell_type": "code",
   "execution_count": null,
   "metadata": {},
   "outputs": [],
   "source": []
  }
 ],
 "metadata": {
  "kernelspec": {
   "display_name": "Python 3",
   "language": "python",
   "name": "python3"
  },
  "language_info": {
   "codemirror_mode": {
    "name": "ipython",
    "version": 3
   },
   "file_extension": ".py",
   "mimetype": "text/x-python",
   "name": "python",
   "nbconvert_exporter": "python",
   "pygments_lexer": "ipython3",
   "version": "3.7.0"
  }
 },
 "nbformat": 4,
 "nbformat_minor": 2
}
