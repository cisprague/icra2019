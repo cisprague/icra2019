{
 "cells": [
  {
   "cell_type": "code",
   "execution_count": 1,
   "metadata": {},
   "outputs": [],
   "source": [
    "import  sys; sys.path.append(\"../src2\")\n",
    "from pendulum import *"
   ]
  },
  {
   "cell_type": "code",
   "execution_count": 2,
   "metadata": {},
   "outputs": [],
   "source": [
    "x0 = np.array([0,0,np.pi,0])\n",
    "xf = np.array([0,0,0,0])\n",
    "dv, feas, t, y, u = solve(x0, xf, 0, dv=[10.24919222,  0.19457643,  0.75414392,  0.96063895,  0.84714559], Tlb=7, Tub=15, atol=1e-8, rtol=1e-8)"
   ]
  },
  {
   "cell_type": "code",
   "execution_count": 3,
   "metadata": {},
   "outputs": [
    {
     "data": {
      "text/plain": [
       "(96, 10)"
      ]
     },
     "execution_count": 3,
     "metadata": {},
     "output_type": "execute_result"
    }
   ],
   "source": [
    "traj = np.vstack((t, y.T, u)).T\n",
    "traj.shape"
   ]
  },
  {
   "cell_type": "code",
   "execution_count": null,
   "metadata": {},
   "outputs": [
    {
     "name": "stdout",
     "output_type": "stream",
     "text": [
      "0\n",
      "yes\n",
      "0.01\n",
      "yes\n",
      "0.02\n",
      "yes\n",
      "0.03\n",
      "yes\n",
      "0.04\n",
      "yes\n",
      "0.05\n",
      "yes\n",
      "0.060000000000000005\n",
      "yes\n",
      "0.07\n",
      "yes\n",
      "0.08\n",
      "yes\n",
      "0.09\n",
      "yes\n",
      "0.09999999999999999\n",
      "yes\n",
      "0.10999999999999999\n",
      "yes\n",
      "0.11999999999999998\n",
      "yes\n",
      "0.12999999999999998\n",
      "yes\n",
      "0.13999999999999999\n",
      "yes\n",
      "0.15\n",
      "yes\n",
      "0.16\n",
      "yes\n",
      "0.17\n",
      "yes\n",
      "0.18000000000000002\n",
      "yes\n",
      "0.19000000000000003\n",
      "yes\n",
      "0.20000000000000004\n",
      "yes\n",
      "0.21000000000000005\n",
      "yes\n",
      "0.22000000000000006\n",
      "yes\n",
      "0.23000000000000007\n",
      "yes\n",
      "0.24000000000000007\n",
      "yes\n",
      "0.25000000000000006\n",
      "yes\n",
      "0.26000000000000006\n",
      "yes\n",
      "0.2700000000000001\n",
      "yes\n",
      "0.2800000000000001\n",
      "yes\n",
      "0.2900000000000001\n",
      "yes\n",
      "0.3000000000000001\n",
      "yes\n",
      "0.3100000000000001\n",
      "yes\n",
      "0.3200000000000001\n",
      "yes\n",
      "0.3300000000000001\n",
      "yes\n",
      "0.34000000000000014\n",
      "yes\n",
      "0.35000000000000014\n",
      "yes\n",
      "0.36000000000000015\n",
      "yes\n",
      "0.37000000000000016\n",
      "yes\n",
      "0.38000000000000017\n",
      "yes\n",
      "0.3900000000000002\n",
      "yes\n",
      "0.4000000000000002\n",
      "yes\n",
      "0.4100000000000002\n",
      "yes\n",
      "0.4200000000000002\n",
      "no\n",
      "0.4150000000000002\n",
      "yes\n",
      "0.4250000000000002\n",
      "no\n",
      "0.4200000000000002\n",
      "yes\n",
      "0.4300000000000002\n",
      "no\n",
      "0.4250000000000002\n",
      "yes\n",
      "0.4350000000000002\n",
      "no\n",
      "0.4300000000000002\n",
      "yes\n",
      "0.4400000000000002\n"
     ]
    }
   ],
   "source": [
    "res = homotopy(traj, iter=30, damax=0.01)"
   ]
  },
  {
   "cell_type": "code",
   "execution_count": null,
   "metadata": {},
   "outputs": [],
   "source": [
    "traj[0,1:5]"
   ]
  },
  {
   "cell_type": "code",
   "execution_count": null,
   "metadata": {},
   "outputs": [],
   "source": [
    "dv"
   ]
  },
  {
   "cell_type": "code",
   "execution_count": null,
   "metadata": {},
   "outputs": [],
   "source": []
  }
 ],
 "metadata": {
  "kernelspec": {
   "display_name": "Python 3",
   "language": "python",
   "name": "python3"
  },
  "language_info": {
   "codemirror_mode": {
    "name": "ipython",
    "version": 3
   },
   "file_extension": ".py",
   "mimetype": "text/x-python",
   "name": "python",
   "nbconvert_exporter": "python",
   "pygments_lexer": "ipython3",
   "version": "3.7.0"
  }
 },
 "nbformat": 4,
 "nbformat_minor": 2
}
