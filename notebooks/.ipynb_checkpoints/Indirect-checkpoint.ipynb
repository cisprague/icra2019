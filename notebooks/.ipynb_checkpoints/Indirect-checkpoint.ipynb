{
 "cells": [
  {
   "cell_type": "code",
   "execution_count": 11,
   "metadata": {},
   "outputs": [
    {
     "name": "stdout",
     "output_type": "stream",
     "text": [
      "Using matplotlib backend: Qt5Agg\n"
     ]
    }
   ],
   "source": [
    "import sys; sys.path.append('../src1')\n",
    "from indirect import Indirect\n",
    "import numpy as np, matplotlib.pyplot as plt\n",
    "%matplotlib"
   ]
  },
  {
   "cell_type": "code",
   "execution_count": 5,
   "metadata": {},
   "outputs": [],
   "source": [
    "# instantiate segment\n",
    "seg = Indirect([0,0,np.pi,0],[0,0,0,0],1,20)"
   ]
  },
  {
   "cell_type": "code",
   "execution_count": 6,
   "metadata": {
    "scrolled": true
   },
   "outputs": [
    {
     "name": "stdout",
     "output_type": "stream",
     "text": [
      "Solving for initial trajectory...\n",
      "Found initial trajectory.\n",
      "Found DV = [ 1.32377195e+01 -8.25281632e-03 -1.93194362e-01 -9.53144836e-01\n",
      " -3.53923122e-01]\n",
      "Initiating homotopy sequence...\n",
      "Success at 0, DV = [ 1.32377195e+01 -8.25281632e-03 -1.93194362e-01 -9.53144836e-01\n",
      " -3.53923122e-01]\n",
      "Increasing to 0.5\n",
      "Decreasing to 0.25\n",
      "Success at 0.25, DV = [ 1.32141706e+01 -7.85065382e-03 -1.55065004e-01 -7.31203529e-01\n",
      " -2.38447373e-01]\n",
      "Increasing to 0.625\n",
      "Success at 0.625, DV = [ 6.84725437  0.12348055  0.06398762 -0.51141733 -0.96378041]\n",
      "Increasing to 0.8125\n",
      "Decreasing to 0.71875\n",
      "Decreasing to 0.671875\n",
      "Decreasing to 0.6484375\n",
      "Decreasing to 0.63671875\n",
      "Success at 0.63671875, DV = [ 6.84887869  0.11963888  0.06268694 -0.4940686  -0.93346169]\n",
      "Increasing to 0.818359375\n",
      "Decreasing to 0.7275390625\n",
      "Success at 0.7275390625, DV = [ 6.85862652  0.08980197  0.05013089 -0.36443685 -0.6991967 ]\n",
      "Increasing to 0.86376953125\n",
      "Decreasing to 0.795654296875\n",
      "Decreasing to 0.7615966796875\n",
      "Decreasing to 0.74456787109375\n",
      "Success at 0.74456787109375, DV = [10.45515433  0.04333979  0.24080356  0.49746463 -0.07515889]\n",
      "Increasing to 0.872283935546875\n",
      "Decreasing to 0.8084259033203125\n",
      "Decreasing to 0.7764968872070312\n",
      "Success at 0.7764968872070312, DV = [ 6.28018438  0.04988023 -0.38389301 -0.99249835 -0.69158799]\n",
      "Increasing to 0.8882484436035156\n",
      "Success at 0.8882484436035156, DV = [ 6.19623543  0.01404086 -0.38532045 -0.78735807 -0.40606975]\n",
      "Increasing to 0.9441242218017578\n",
      "Success at 0.9441242218017578, DV = [ 6.15152088e+00 -2.72361476e-03 -3.72595407e-01 -6.62043560e-01\n",
      " -2.62527361e-01]\n",
      "Increasing to 0.9720621109008789\n",
      "Success at 0.9720621109008789, DV = [ 6.13047201 -0.01088188 -0.37640938 -0.61715006 -0.20019056]\n",
      "Increasing to 0.9860310554504395\n",
      "Success at 0.9860310554504395, DV = [ 6.12322774 -0.01403467 -0.37761385 -0.59871415 -0.17582916]\n",
      "Increasing to 0.9930155277252197\n",
      "Success at 0.9930155277252197, DV = [ 6.12110619 -0.01493774 -0.37524623 -0.58836789 -0.16676369]\n",
      "Increasing to 0.9965077638626099\n",
      "Decreasing to 0.9947616457939148\n",
      "Success at 0.9947616457939148, DV = [ 6.12076923 -0.01512807 -0.37586616 -0.58823065 -0.16570673]\n",
      "Increasing to 0.9973808228969574\n",
      "Success at 0.9973808228969574, DV = [ 6.12043824 -0.01532124 -0.37651054 -0.58811584 -0.16464454]\n",
      "Increasing to 0.9986904114484787\n",
      "Success at 0.9986904114484787, DV = [ 6.12035404 -0.01537189 -0.37667967 -0.5880854  -0.16436616]\n",
      "Increasing to 0.9993452057242393\n",
      "Success at 0.9993452057242393, DV = [ 6.12033282 -0.01538491 -0.37672424 -0.58807951 -0.16429541]\n",
      "Solving for bang-bang...\n"
     ]
    }
   ],
   "source": [
    "dvs = seg.homotopy(verbose=True, iter=50, iter0=50, atol=1e-10, rtol=1e-10, lb=1)"
   ]
  },
  {
   "cell_type": "code",
   "execution_count": 14,
   "metadata": {},
   "outputs": [
    {
     "ename": "IndexError",
     "evalue": "too many indices for array",
     "output_type": "error",
     "traceback": [
      "\u001b[0;31m---------------------------------------------------------------------------\u001b[0m",
      "\u001b[0;31mIndexError\u001b[0m                                Traceback (most recent call last)",
      "\u001b[0;32m<ipython-input-14-112c219a8192>\u001b[0m in \u001b[0;36m<module>\u001b[0;34m()\u001b[0m\n\u001b[1;32m      3\u001b[0m \u001b[0malphas\u001b[0m \u001b[0;34m=\u001b[0m \u001b[0mnp\u001b[0m\u001b[0;34m.\u001b[0m\u001b[0mlinspace\u001b[0m\u001b[0;34m(\u001b[0m\u001b[0;36m0\u001b[0m\u001b[0;34m,\u001b[0m\u001b[0;36m1\u001b[0m\u001b[0;34m,\u001b[0m\u001b[0mlen\u001b[0m\u001b[0;34m(\u001b[0m\u001b[0mdvs\u001b[0m\u001b[0;34m)\u001b[0m\u001b[0;34m)\u001b[0m\u001b[0;34m\u001b[0m\u001b[0m\n\u001b[1;32m      4\u001b[0m \u001b[0;32mfor\u001b[0m \u001b[0mi\u001b[0m \u001b[0;32min\u001b[0m \u001b[0mrange\u001b[0m\u001b[0;34m(\u001b[0m\u001b[0mn\u001b[0m\u001b[0;34m)\u001b[0m\u001b[0;34m:\u001b[0m\u001b[0;34m\u001b[0m\u001b[0m\n\u001b[0;32m----> 5\u001b[0;31m     \u001b[0mtl\u001b[0m\u001b[0;34m,\u001b[0m \u001b[0mxl\u001b[0m \u001b[0;34m=\u001b[0m \u001b[0mseg\u001b[0m\u001b[0;34m.\u001b[0m\u001b[0mpropagate\u001b[0m\u001b[0;34m(\u001b[0m\u001b[0;34m*\u001b[0m\u001b[0mseg\u001b[0m\u001b[0;34m.\u001b[0m\u001b[0mdecode\u001b[0m\u001b[0;34m(\u001b[0m\u001b[0mdvs\u001b[0m\u001b[0;34m[\u001b[0m\u001b[0mi\u001b[0m\u001b[0;34m,\u001b[0m\u001b[0;34m:\u001b[0m\u001b[0;34m-\u001b[0m\u001b[0;36m1\u001b[0m\u001b[0;34m]\u001b[0m\u001b[0;34m)\u001b[0m\u001b[0;34m,\u001b[0m \u001b[0mdv\u001b[0m\u001b[0;34m[\u001b[0m\u001b[0mi\u001b[0m\u001b[0;34m,\u001b[0m\u001b[0;34m-\u001b[0m\u001b[0;36m1\u001b[0m\u001b[0;34m]\u001b[0m\u001b[0;34m,\u001b[0m \u001b[0matol\u001b[0m\u001b[0;34m=\u001b[0m\u001b[0;36m1e-12\u001b[0m\u001b[0;34m,\u001b[0m \u001b[0mrtol\u001b[0m\u001b[0;34m=\u001b[0m\u001b[0;36m1e-12\u001b[0m\u001b[0;34m)\u001b[0m\u001b[0;34m\u001b[0m\u001b[0m\n\u001b[0m\u001b[1;32m      6\u001b[0m     \u001b[0mx\u001b[0m \u001b[0;34m=\u001b[0m \u001b[0mxl\u001b[0m\u001b[0;34m[\u001b[0m\u001b[0;34m:\u001b[0m\u001b[0;34m,\u001b[0m\u001b[0;36m0\u001b[0m\u001b[0;34m]\u001b[0m \u001b[0;34m+\u001b[0m \u001b[0mnp\u001b[0m\u001b[0;34m.\u001b[0m\u001b[0msin\u001b[0m\u001b[0;34m(\u001b[0m\u001b[0mxl\u001b[0m\u001b[0;34m[\u001b[0m\u001b[0;34m:\u001b[0m\u001b[0;34m,\u001b[0m\u001b[0;36m2\u001b[0m\u001b[0;34m]\u001b[0m\u001b[0;34m)\u001b[0m\u001b[0;34m\u001b[0m\u001b[0m\n\u001b[1;32m      7\u001b[0m     \u001b[0my\u001b[0m \u001b[0;34m=\u001b[0m \u001b[0mnp\u001b[0m\u001b[0;34m.\u001b[0m\u001b[0mcos\u001b[0m\u001b[0;34m(\u001b[0m\u001b[0mxl\u001b[0m\u001b[0;34m[\u001b[0m\u001b[0;34m:\u001b[0m\u001b[0;34m,\u001b[0m\u001b[0;36m2\u001b[0m\u001b[0;34m]\u001b[0m\u001b[0;34m)\u001b[0m\u001b[0;34m\u001b[0m\u001b[0m\n",
      "\u001b[0;31mIndexError\u001b[0m: too many indices for array"
     ]
    }
   ],
   "source": [
    "fig, ax = plt.subplots(1)\n",
    "n = len(dvs)\n",
    "alphas = np.linspace(0,1,n)\n",
    "for i in range(n):\n",
    "    tl, xl = seg.propagate(*seg.decode(dvs[i,:-1]), dv[i,-1], atol=1e-12, rtol=1e-12)\n",
    "    x = xl[:,0] + np.sin(xl[:,2])\n",
    "    y = np.cos(xl[:,2])\n",
    "    ax.plot(x, y, 'k-', alpha=alphas[i])\n",
    "plt.show()"
   ]
  },
  {
   "cell_type": "code",
   "execution_count": null,
   "metadata": {},
   "outputs": [],
   "source": [
    "tl, xl = seg.propagate(*seg.decode(dv), 1, atol=1e-12, rtol=1e-12)\n",
    "seg.plot_traj(xl)\n",
    "seg.plot_timeline(tl, xl, seg.controls(xl, 1))"
   ]
  },
  {
   "cell_type": "code",
   "execution_count": null,
   "metadata": {},
   "outputs": [],
   "source": [
    "tl"
   ]
  },
  {
   "cell_type": "markdown",
   "metadata": {},
   "source": [
    "# Quadratically-optimal\n",
    "[0,0,np.pi,0],[1,0,0,0]: [13.06394793, -0.01445184, -0.23998028, -0.90257279, -0.42531177]\n",
    "\n",
    "# Time-optimal\n",
    "[0,0,np.pi,0],[1,0,0,0]: [ 6.20022122, -0.04802854, -0.49265924, -0.61532101, -0.04181662]"
   ]
  },
  {
   "cell_type": "code",
   "execution_count": null,
   "metadata": {},
   "outputs": [],
   "source": [
    "\n",
    "dv0 = [13.06394793, -0.01445184, -0.23998028, -0.90257279, -0.42531177]\n",
    "dv1 = [ 6.20022122, -0.04802854, -0.49265924, -0.61532101, -0.04181662]"
   ]
  },
  {
   "cell_type": "code",
   "execution_count": null,
   "metadata": {},
   "outputs": [],
   "source": [
    "t, xl = seg.propagate(*seg.decode(dv), 1, atol=1e-12, rtol=1e-12)\n",
    "ax = seg.plot_traj(xl, interp=True)\n",
    "ax = seg.plot_timeline(t, xl, seg.controls(xl, 1), interp=True)"
   ]
  },
  {
   "cell_type": "code",
   "execution_count": null,
   "metadata": {},
   "outputs": [],
   "source": [
    "seg.x0 = seg.x0 + np.random.random(seg.xdim)*0.1"
   ]
  },
  {
   "cell_type": "code",
   "execution_count": null,
   "metadata": {},
   "outputs": [],
   "source": [
    "dv, succ = seg.solve(dv=dv, atol=1e-10, rtol=1e-10, lb=1, alpha=.9999)"
   ]
  },
  {
   "cell_type": "code",
   "execution_count": null,
   "metadata": {},
   "outputs": [],
   "source": [
    "seg.solve()"
   ]
  },
  {
   "cell_type": "code",
   "execution_count": null,
   "metadata": {},
   "outputs": [],
   "source": [
    "import numpy as np"
   ]
  },
  {
   "cell_type": "code",
   "execution_count": null,
   "metadata": {},
   "outputs": [],
   "source": [
    "a = np.array([[0,0,0,0],[0,0,43,0]])\n",
    "a"
   ]
  },
  {
   "cell_type": "code",
   "execution_count": null,
   "metadata": {},
   "outputs": [],
   "source": [
    "np.save(str(a), a)"
   ]
  },
  {
   "cell_type": "code",
   "execution_count": null,
   "metadata": {},
   "outputs": [],
   "source": []
  }
 ],
 "metadata": {
  "kernelspec": {
   "display_name": "Python 3",
   "language": "python",
   "name": "python3"
  },
  "language_info": {
   "codemirror_mode": {
    "name": "ipython",
    "version": 3
   },
   "file_extension": ".py",
   "mimetype": "text/x-python",
   "name": "python",
   "nbconvert_exporter": "python",
   "pygments_lexer": "ipython3",
   "version": "3.7.0"
  }
 },
 "nbformat": 4,
 "nbformat_minor": 2
}
