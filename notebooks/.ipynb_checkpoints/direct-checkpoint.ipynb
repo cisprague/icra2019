{
 "cells": [
  {
   "cell_type": "code",
   "execution_count": 11,
   "metadata": {},
   "outputs": [
    {
     "name": "stdout",
     "output_type": "stream",
     "text": [
      "Using matplotlib backend: Qt5Agg\n"
     ]
    }
   ],
   "source": [
    "import sys; sys.path.append(\"../src\")\n",
    "from dynamics import Dynamics\n",
    "from segment import Segment\n",
    "from direct import Hermite_Simpson, Problem\n",
    "import pygmo as pg, matplotlib.pyplot as plt, numpy as np\n",
    "%matplotlib"
   ]
  },
  {
   "cell_type": "code",
   "execution_count": 2,
   "metadata": {},
   "outputs": [],
   "source": [
    "# boundary conditions\n",
    "s0 = [0, 0, 0, 0]\n",
    "sf = [1, 0, 0, 0]"
   ]
  },
  {
   "cell_type": "code",
   "execution_count": 5,
   "metadata": {},
   "outputs": [],
   "source": [
    "# instantiate direct trajectory optimisation problem with\n",
    "# Hermite Simpson quadrature for nondimensional pendulum dynamics\n",
    "seg   = Segment(Dynamics(), [0,0,0,0], [1,0,0,0], 0, 10)\n",
    "trans = Hermite_Simpson(seg, 20)\n",
    "udp   = Problem(trans)"
   ]
  },
  {
   "cell_type": "code",
   "execution_count": 15,
   "metadata": {},
   "outputs": [],
   "source": [
    "# setup nonlinear programing problem with PyGMO and IPOPT\n",
    "prob = pg.problem(udp)\n",
    "pop  = pg.population(prob, 1)\n",
    "algo = pg.algorithm(pg.ipopt())\n",
    "algo.set_verbosity(1)"
   ]
  },
  {
   "cell_type": "code",
   "execution_count": 16,
   "metadata": {},
   "outputs": [],
   "source": [
    "# solve problem\n",
    "pop = algo.evolve(pop)"
   ]
  },
  {
   "cell_type": "code",
   "execution_count": 17,
   "metadata": {},
   "outputs": [
    {
     "data": {
      "text/plain": [
       "Problem name: <class 'direct.Problem'>\n",
       "\tGlobal dimension:\t\t\t101\n",
       "\tInteger dimension:\t\t\t0\n",
       "\tFitness dimension:\t\t\t85\n",
       "\tNumber of objectives:\t\t\t1\n",
       "\tEquality constraints dimension:\t\t84\n",
       "\tInequality constraints dimension:\t0\n",
       "\tTolerances on constraints: [0, 0, 0, 0, 0, ... ]\n",
       "\tLower bounds: [0, -5, -3, 0, -1, ... ]\n",
       "\tUpper bounds: [100, 5, 3, 6.28319, 1, ... ]\n",
       "\n",
       "\tHas gradient: true\n",
       "\tUser implemented gradient sparsity: false\n",
       "\tExpected gradients: 8585\n",
       "\tHas hessians: false\n",
       "\tUser implemented hessians sparsity: false\n",
       "\n",
       "\tFitness evaluations: 294\n",
       "\tGradient evaluations: 223\n",
       "\n",
       "\tThread safety: none\n",
       "\n",
       "Population size: 1\n",
       "\n",
       "List of individuals: \n",
       "#0:\n",
       "\tID:\t\t\t10187736201103393847\n",
       "\tDecision vector:\t[100, 0, 0, 0, 0, ... ]\n",
       "\tFitness vector:\t\t[22.4321, 4.52929e-08, 1.79476e-08, -7.4094e-08, 5.14912e-08, ... ]\n",
       "\n",
       "Champion decision vector: [100, 0, 0, 0, 0, ... ]\n",
       "Champion fitness: [22.4321, 4.52929e-08, 1.79476e-08, -7.4094e-08, 5.14912e-08, ... ]"
      ]
     },
     "execution_count": 17,
     "metadata": {},
     "output_type": "execute_result"
    }
   ],
   "source": [
    "pop"
   ]
  },
  {
   "cell_type": "code",
   "execution_count": 18,
   "metadata": {},
   "outputs": [
    {
     "data": {
      "text/plain": [
       "array([ 2.24320803e+01,  4.52929072e-08,  1.79476447e-08, -7.40940282e-08,\n",
       "        5.14911551e-08, -6.55560006e-08, -2.71318784e-08, -1.73982992e-08,\n",
       "        4.08361805e-08,  2.13365270e-09, -6.32624997e-09,  1.94447756e-08,\n",
       "       -1.47093128e-08, -1.26118742e-08,  2.38229556e-08, -1.63776535e-08,\n",
       "        8.01348410e-09,  1.23667736e-08, -1.58479943e-08,  8.73577877e-09,\n",
       "       -7.97698230e-09,  4.03750406e-08,  2.72405594e-08, -1.90175165e-09,\n",
       "        1.00923870e-08, -3.27805516e-08, -2.38905571e-08,  5.05540951e-08,\n",
       "        9.21695256e-08,  1.16035803e-08, -1.35820810e-09,  3.48639605e-08,\n",
       "        4.39691993e-08, -4.86823963e-08, -9.35266420e-09, -2.15236562e-08,\n",
       "        3.58237221e-08,  4.45897586e-08,  1.87668502e-08, -1.12123937e-07,\n",
       "       -2.25782182e-07, -1.56520825e-08,  4.41496395e-09, -2.03221524e-07,\n",
       "       -1.83288352e-07, -2.44846199e-10, -7.26116299e-09,  2.56133914e-08,\n",
       "       -2.77319528e-08, -3.62473278e-08, -1.61045894e-08, -1.35557925e-08,\n",
       "       -7.36163130e-10,  5.43438459e-08,  2.18751499e-08, -1.15949135e-07,\n",
       "       -2.33123005e-07, -8.91702590e-09,  2.91014157e-09, -2.02378940e-07,\n",
       "       -1.85547296e-07, -1.26763554e-08, -1.18202430e-08,  2.51301175e-08,\n",
       "       -2.63992798e-08,  1.23268133e-08, -1.61552995e-08, -5.02878006e-09,\n",
       "        6.21784291e-10, -2.02525126e-08,  3.68516959e-08,  4.31704215e-08,\n",
       "       -2.73478844e-08,  5.67800917e-10, -1.85811102e-08,  4.66409151e-08,\n",
       "        4.63493091e-08,  0.00000000e+00,  0.00000000e+00,  0.00000000e+00,\n",
       "        0.00000000e+00,  0.00000000e+00,  0.00000000e+00,  0.00000000e+00,\n",
       "        0.00000000e+00])"
      ]
     },
     "execution_count": 18,
     "metadata": {},
     "output_type": "execute_result"
    }
   ],
   "source": [
    "udp.fitness(pop.champion_x)"
   ]
  },
  {
   "cell_type": "code",
   "execution_count": 19,
   "metadata": {},
   "outputs": [],
   "source": [
    "x = udp.transcription.states[:,0] + np.sin(udp.transcription.states[:,2])\n",
    "y = udp.transcription.states[:,0] + np.cos(udp.transcription.states[:,2])\n",
    "\n",
    "fig, ax = plt.subplots(1)\n",
    "ax.plot(x, y, \"k.-\")\n",
    "ax.set_aspect(\"equal\")\n",
    "plt.show()"
   ]
  },
  {
   "cell_type": "code",
   "execution_count": null,
   "metadata": {},
   "outputs": [],
   "source": []
  }
 ],
 "metadata": {
  "kernelspec": {
   "display_name": "Python 3",
   "language": "python",
   "name": "python3"
  },
  "language_info": {
   "codemirror_mode": {
    "name": "ipython",
    "version": 3
   },
   "file_extension": ".py",
   "mimetype": "text/x-python",
   "name": "python",
   "nbconvert_exporter": "python",
   "pygments_lexer": "ipython3",
   "version": "3.7.0"
  }
 },
 "nbformat": 4,
 "nbformat_minor": 2
}
