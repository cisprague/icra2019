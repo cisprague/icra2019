{
 "cells": [
  {
   "cell_type": "code",
   "execution_count": 10,
   "metadata": {},
   "outputs": [],
   "source": [
    "import sys; sys.path.append(\"../src\")\n",
    "from direct import Direct\n",
    "from optimisation import conds\n",
    "import numpy as np, matplotlib.pyplot as plt"
   ]
  },
  {
   "cell_type": "code",
   "execution_count": null,
   "metadata": {},
   "outputs": [],
   "source": [
    "# initial and final states\n",
    "x0 = [0,0,0,0]\n",
    "xf = [1,0,0,0]"
   ]
  },
  {
   "cell_type": "code",
   "execution_count": null,
   "metadata": {},
   "outputs": [],
   "source": [
    "# instantiate direct segment\n",
    "seg = Direct(x0, xf)"
   ]
  },
  {
   "cell_type": "code",
   "execution_count": 32,
   "metadata": {},
   "outputs": [
    {
     "data": {
      "text/plain": [
       "[([-1, 0, 0, 0], [0, 0, 0, 0]),\n",
       " ([-1, 0, 0, 0], [1, 0, 0, 0]),\n",
       " ([-1, 0, 0, 0], [-1, 0, 3.141592653589793, 0]),\n",
       " ([-1, 0, 0, 0], [0, 0, 3.141592653589793, 0]),\n",
       " ([-1, 0, 0, 0], [1, 0, 3.141592653589793, 0]),\n",
       " ([0, 0, 0, 0], [1, 0, 0, 0]),\n",
       " ([0, 0, 0, 0], [-1, 0, 3.141592653589793, 0]),\n",
       " ([0, 0, 0, 0], [0, 0, 3.141592653589793, 0]),\n",
       " ([0, 0, 0, 0], [1, 0, 3.141592653589793, 0]),\n",
       " ([1, 0, 0, 0], [-1, 0, 3.141592653589793, 0]),\n",
       " ([1, 0, 0, 0], [0, 0, 3.141592653589793, 0]),\n",
       " ([1, 0, 0, 0], [1, 0, 3.141592653589793, 0]),\n",
       " ([-1, 0, 3.141592653589793, 0], [0, 0, 3.141592653589793, 0]),\n",
       " ([-1, 0, 3.141592653589793, 0], [1, 0, 3.141592653589793, 0]),\n",
       " ([0, 0, 3.141592653589793, 0], [1, 0, 3.141592653589793, 0])]"
      ]
     },
     "execution_count": 32,
     "metadata": {},
     "output_type": "execute_result"
    }
   ],
   "source": [
    "for cond in conds:\n",
    "    try:\n",
    "        a = np.load(\"../data/min_times/\" + str(data) + \".npy\")\n",
    "    except:\n",
    "        continue\n",
    "    print(a)"
   ]
  },
  {
   "cell_type": "code",
   "execution_count": null,
   "metadata": {},
   "outputs": [],
   "source": []
  }
 ],
 "metadata": {
  "kernelspec": {
   "display_name": "Python 3",
   "language": "python",
   "name": "python3"
  },
  "language_info": {
   "codemirror_mode": {
    "name": "ipython",
    "version": 3
   },
   "file_extension": ".py",
   "mimetype": "text/x-python",
   "name": "python",
   "nbconvert_exporter": "python",
   "pygments_lexer": "ipython3",
   "version": "3.7.0"
  }
 },
 "nbformat": 4,
 "nbformat_minor": 2
}
