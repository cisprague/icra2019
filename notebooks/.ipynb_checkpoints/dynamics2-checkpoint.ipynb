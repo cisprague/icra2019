{
 "cells": [
  {
   "cell_type": "code",
   "execution_count": 1,
   "metadata": {},
   "outputs": [],
   "source": [
    "from sympy import *\n",
    "init_printing()"
   ]
  },
  {
   "cell_type": "code",
   "execution_count": 3,
   "metadata": {},
   "outputs": [
    {
     "data": {
      "text/latex": [
       "$$\\left[\\begin{matrix}x & v & \\theta & \\omega\\end{matrix}\\right]$$"
      ],
      "text/plain": [
       "[x  v  \\theta  \\omega]"
      ]
     },
     "execution_count": 3,
     "metadata": {},
     "output_type": "execute_result"
    }
   ],
   "source": [
    "x, v, theta, omega = symbols(\"x v \\\\theta, \\\\omega\")\n",
    "s = Matrix([x, v, theta, omega])\n",
    "s.T"
   ]
  },
  {
   "cell_type": "code",
   "execution_count": 5,
   "metadata": {},
   "outputs": [
    {
     "data": {
      "text/latex": [
       "$$\\left[\\begin{matrix}v & u & \\omega & - u \\cos{\\left (\\theta \\right )} + \\sin{\\left (\\theta \\right )}\\end{matrix}\\right]$$"
      ],
      "text/plain": [
       "[v  u  \\omega  -u⋅cos(\\theta) + sin(\\theta)]"
      ]
     },
     "execution_count": 5,
     "metadata": {},
     "output_type": "execute_result"
    }
   ],
   "source": [
    "u = symbols(\"u\")\n",
    "ds = Matrix([v, u, omega, sin(theta) - u*cos(theta)])\n",
    "ds.T"
   ]
  },
  {
   "cell_type": "code",
   "execution_count": 6,
   "metadata": {},
   "outputs": [
    {
     "data": {
      "image/png": "[encoded data removed]",
      "text/latex": [
       "$$\\alpha u + u^{2} \\left(- \\alpha + 1\\right)$$"
      ],
      "text/plain": [
       "       2         \n",
       "α⋅u + u ⋅(-α + 1)"
      ]
     },
     "execution_count": 6,
     "metadata": {},
     "output_type": "execute_result"
    }
   ],
   "source": [
    "alpha = symbols(\"alpha\")\n",
    "L = alpha*u + (1-alpha)*u**2\n",
    "L"
   ]
  },
  {
   "cell_type": "code",
   "execution_count": 17,
   "metadata": {},
   "outputs": [],
   "source": [
    "slb = Matrix([symbols(\"{}_l\".format(var)) for var in s])\n",
    "sub = Matrix([symbols(\"{}_u\".format(var)) for var in s])\n",
    "ulb, uub = symbols(\"u_l u_u\")\n",
    "tlb, tub = symbols(\"t_l t_u\")\n",
    "b = Matrix([*[]])"
   ]
  },
  {
   "cell_type": "code",
   "execution_count": 8,
   "metadata": {},
   "outputs": [
    {
     "data": {
      "text/latex": [
       "$$\\left[\\begin{matrix}\\lambda_x & \\lambda_v & \\lambda_\\theta & \\lambda_\\omega\\end{matrix}\\right]$$"
      ],
      "text/plain": [
       "[\\lambdaₓ  \\lambdaᵥ  \\lambda_\\theta  \\lambda_\\omega]"
      ]
     },
     "execution_count": 8,
     "metadata": {},
     "output_type": "execute_result"
    }
   ],
   "source": [
    "l = Matrix([symbols(\"\\\\lambda_{}\".format(var)) for var in s])\n",
    "l.T"
   ]
  },
  {
   "cell_type": "code",
   "execution_count": null,
   "metadata": {},
   "outputs": [],
   "source": []
  },
  {
   "cell_type": "code",
   "execution_count": 11,
   "metadata": {},
   "outputs": [
    {
     "data": {
      "image/png": "[encoded data removed]",
      "text/latex": [
       "$$\\lambda_\\omega \\left(- u \\cos{\\left (\\theta \\right )} + \\sin{\\left (\\theta \\right )}\\right) + \\lambda_\\theta \\omega + \\lambda_v u + \\lambda_x v + \\alpha u + u^{2} \\left(- \\alpha + 1\\right)$$"
      ],
      "text/plain": [
       "                                                                              \n",
       "\\lambda_\\omega⋅(-u⋅cos(\\theta) + sin(\\theta)) + \\lambda_\\theta⋅\\omega + \\lambd\n",
       "\n",
       "                           2         \n",
       "aᵥ⋅u + \\lambdaₓ⋅v + α⋅u + u ⋅(-α + 1)"
      ]
     },
     "execution_count": 11,
     "metadata": {},
     "output_type": "execute_result"
    }
   ],
   "source": [
    "H = L + l.dot(ds)\n",
    "H"
   ]
  },
  {
   "cell_type": "code",
   "execution_count": null,
   "metadata": {},
   "outputs": [],
   "source": []
  }
 ],
 "metadata": {
  "kernelspec": {
   "display_name": "Python 3",
   "language": "python",
   "name": "python3"
  },
  "language_info": {
   "codemirror_mode": {
    "name": "ipython",
    "version": 3
   },
   "file_extension": ".py",
   "mimetype": "text/x-python",
   "name": "python",
   "nbconvert_exporter": "python",
   "pygments_lexer": "ipython3",
   "version": "3.7.0"
  }
 },
 "nbformat": 4,
 "nbformat_minor": 2
}
