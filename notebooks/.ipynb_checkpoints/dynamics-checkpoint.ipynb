{
 "cells": [
  {
   "cell_type": "markdown",
   "metadata": {},
   "source": [
    "# Indirect optimal control of nondimensional inverted pendulum via Pontryagin's minimum principle"
   ]
  },
  {
   "cell_type": "code",
   "execution_count": 1,
   "metadata": {},
   "outputs": [],
   "source": [
    "from sympy import *\n",
    "import numpy as np\n",
    "from scipy.optimize import newton, fsolve\n",
    "import matplotlib.pyplot as plt\n",
    "init_printing()"
   ]
  },
  {
   "cell_type": "markdown",
   "metadata": {},
   "source": [
    "# State variables"
   ]
  },
  {
   "cell_type": "code",
   "execution_count": 2,
   "metadata": {},
   "outputs": [
    {
     "data": {
      "image/png": "[encoded data removed]",
      "text/latex": [
       "$$\\left[\\begin{matrix}x & v & \\theta & \\omega\\end{matrix}\\right]$$"
      ],
      "text/plain": [
       "[x  v  \\theta  \\omega]"
      ]
     },
     "execution_count": 2,
     "metadata": {},
     "output_type": "execute_result"
    }
   ],
   "source": [
    "x, v, theta, omega = symbols(\"x v \\\\theta, \\\\omega\")\n",
    "s = Matrix([x, v, theta, omega])\n",
    "s.T"
   ]
  },
  {
   "cell_type": "markdown",
   "metadata": {},
   "source": [
    "## Control variable"
   ]
  },
  {
   "cell_type": "code",
   "execution_count": 3,
   "metadata": {},
   "outputs": [
    {
     "data": {
      "image/png": "[encoded data removed]",
      "text/latex": [
       "$$\\left ( u, \\quad \\overline{u}\\right )$$"
      ],
      "text/plain": [
       "(u, \\overline{u})"
      ]
     },
     "execution_count": 3,
     "metadata": {},
     "output_type": "execute_result"
    }
   ],
   "source": [
    "u, us = symbols(\"u \\overline{u}\")\n",
    "u, us"
   ]
  },
  {
   "cell_type": "markdown",
   "metadata": {},
   "source": [
    "## State equations of motion"
   ]
  },
  {
   "cell_type": "code",
   "execution_count": 4,
   "metadata": {},
   "outputs": [
    {
     "data": {
      "image/png": "[encoded data removed]",
      "text/latex": [
       "$$\\left[\\begin{matrix}v\\\\u\\\\\\omega\\\\- u \\cos{\\left (\\theta \\right )} + \\sin{\\left (\\theta \\right )}\\end{matrix}\\right]$$"
      ],
      "text/plain": [
       "⎡             v              ⎤\n",
       "⎢                            ⎥\n",
       "⎢             u              ⎥\n",
       "⎢                            ⎥\n",
       "⎢           \\omega           ⎥\n",
       "⎢                            ⎥\n",
       "⎣-u⋅cos(\\theta) + sin(\\theta)⎦"
      ]
     },
     "execution_count": 4,
     "metadata": {},
     "output_type": "execute_result"
    }
   ],
   "source": [
    "ds = Matrix([v, u, omega, sin(theta) - u*cos(theta)])\n",
    "ds"
   ]
  },
  {
   "cell_type": "markdown",
   "metadata": {},
   "source": [
    "## Homotopic Lagrangian"
   ]
  },
  {
   "cell_type": "code",
   "execution_count": 5,
   "metadata": {},
   "outputs": [
    {
     "data": {
      "image/png": "[encoded data removed]",
      "text/latex": [
       "$$\\alpha + u^{2} \\left(- \\alpha + 1\\right)$$"
      ],
      "text/plain": [
       "     2         \n",
       "α + u ⋅(-α + 1)"
      ]
     },
     "execution_count": 5,
     "metadata": {},
     "output_type": "execute_result"
    }
   ],
   "source": [
    "alpha = symbols(\"alpha\")\n",
    "L = (1-alpha)*u**2 + alpha*1\n",
    "L"
   ]
  },
  {
   "cell_type": "markdown",
   "metadata": {},
   "source": [
    "## Costate variables"
   ]
  },
  {
   "cell_type": "code",
   "execution_count": 6,
   "metadata": {},
   "outputs": [
    {
     "data": {
      "image/png": "[encoded data removed]",
      "text/latex": [
       "$$\\left[\\begin{matrix}\\lambda_x & \\lambda_v & \\lambda_\\theta & \\lambda_\\omega\\end{matrix}\\right]$$"
      ],
      "text/plain": [
       "[\\lambdaₓ  \\lambdaᵥ  \\lambda_\\theta  \\lambda_\\omega]"
      ]
     },
     "execution_count": 6,
     "metadata": {},
     "output_type": "execute_result"
    }
   ],
   "source": [
    "l = Matrix([symbols(\"\\\\lambda_{}\".format(var)) for var in s])\n",
    "l.T"
   ]
  },
  {
   "cell_type": "markdown",
   "metadata": {},
   "source": [
    "## Hamiltonian"
   ]
  },
  {
   "cell_type": "code",
   "execution_count": 7,
   "metadata": {},
   "outputs": [
    {
     "data": {
      "image/png": "[encoded data removed]",
      "text/latex": [
       "$$\\lambda_\\omega \\left(- u \\cos{\\left (\\theta \\right )} + \\sin{\\left (\\theta \\right )}\\right) + \\lambda_\\theta \\omega + \\lambda_v u + \\lambda_x v + \\alpha + u^{2} \\left(- \\alpha + 1\\right)$$"
      ],
      "text/plain": [
       "                                                                              \n",
       "\\lambda_\\omega⋅(-u⋅cos(\\theta) + sin(\\theta)) + \\lambda_\\theta⋅\\omega + \\lambd\n",
       "\n",
       "                         2         \n",
       "aᵥ⋅u + \\lambdaₓ⋅v + α + u ⋅(-α + 1)"
      ]
     },
     "execution_count": 7,
     "metadata": {},
     "output_type": "execute_result"
    }
   ],
   "source": [
    "H = L + l.dot(ds)\n",
    "H"
   ]
  },
  {
   "cell_type": "markdown",
   "metadata": {},
   "source": [
    "## Costate equations of motion"
   ]
  },
  {
   "cell_type": "code",
   "execution_count": 8,
   "metadata": {},
   "outputs": [
    {
     "data": {
      "image/png": "[encoded data removed]",
      "text/latex": [
       "$$\\left[\\begin{matrix}0\\\\- \\lambda_x\\\\- \\lambda_\\omega \\left(u \\sin{\\left (\\theta \\right )} + \\cos{\\left (\\theta \\right )}\\right)\\\\- \\lambda_\\theta\\end{matrix}\\right]$$"
      ],
      "text/plain": [
       "⎡                      0                      ⎤\n",
       "⎢                                             ⎥\n",
       "⎢                  -\\lambdaₓ                  ⎥\n",
       "⎢                                             ⎥\n",
       "⎢-\\lambda_\\omega⋅(u⋅sin(\\theta) + cos(\\theta))⎥\n",
       "⎢                                             ⎥\n",
       "⎣               -\\lambda_\\theta               ⎦"
      ]
     },
     "execution_count": 8,
     "metadata": {},
     "output_type": "execute_result"
    }
   ],
   "source": [
    "dl = -H.diff(s)\n",
    "dl"
   ]
  },
  {
   "cell_type": "markdown",
   "metadata": {},
   "source": [
    "## Energy optimal control $\\alpha \\in [0,1)$"
   ]
  },
  {
   "cell_type": "code",
   "execution_count": 9,
   "metadata": {},
   "outputs": [
    {
     "data": {
      "image/png": "[encoded data removed]",
      "text/latex": [
       "$$\\frac{- \\lambda_\\omega \\cos{\\left (\\theta \\right )} + \\lambda_v}{2 \\left(\\alpha - 1\\right)}$$"
      ],
      "text/plain": [
       "-\\lambda_\\omega⋅cos(\\theta) + \\lambdaᵥ\n",
       "──────────────────────────────────────\n",
       "              2⋅(α - 1)               "
      ]
     },
     "execution_count": 9,
     "metadata": {},
     "output_type": "execute_result"
    }
   ],
   "source": [
    "uo = solve(H.diff(u), u)[0]\n",
    "uo"
   ]
  },
  {
   "cell_type": "markdown",
   "metadata": {},
   "source": [
    "## Time optimal control $\\alpha = 1$"
   ]
  },
  {
   "cell_type": "code",
   "execution_count": 10,
   "metadata": {},
   "outputs": [
    {
     "data": {
      "image/png": "[encoded data removed]",
      "text/latex": [
       "$$- \\overline{u} \\operatorname{sign}{\\left (\\lambda_\\omega \\cos{\\left (\\theta \\right )} - \\lambda_v \\right )}$$"
      ],
      "text/plain": [
       "-\\overline{u}⋅sign(\\lambda_\\omega⋅cos(\\theta) - \\lambdaᵥ)"
      ]
     },
     "execution_count": 10,
     "metadata": {},
     "output_type": "execute_result"
    }
   ],
   "source": [
    "uto = sign(limit(uo, alpha, 1))*us\n",
    "uto"
   ]
  },
  {
   "cell_type": "code",
   "execution_count": 11,
   "metadata": {},
   "outputs": [],
   "source": [
    "def ec_tt(tt, tr, kx, kv, kt, kw, um):\n",
    "    xm = np.pi**2*(np.pi+um)\n",
    "    vm = np.pi*um\n",
    "    res = kt*(tt-tr) + np.sin(tt) - vm*np.cos(tt)\n",
    "    res += kt*np.arctan(kx*xm + kv*vm)\n",
    "    return res"
   ]
  },
  {
   "cell_type": "code",
   "execution_count": 16,
   "metadata": {},
   "outputs": [
    {
     "name": "stdout",
     "output_type": "stream",
     "text": [
      "-6.048010111668313\n",
      "0.2351751955112731\n",
      "6.518360502690857\n"
     ]
    },
    {
     "data": {
      "image/png": "[encoded data removed]",
      "text/plain": [
       "<Figure size 432x288 with 1 Axes>"
      ]
     },
     "metadata": {},
     "output_type": "display_data"
    }
   ],
   "source": [
    "fig, ax = plt.subplots(1)\n",
    "tt = np.linspace(0, 8*np.pi, 1000)\n",
    "for tr in [-2*np.pi, 0, 2*np.pi]:\n",
    "    fun = lambda tt: ec_tt(tt, tr, 0, 0, 12, 1, 1)\n",
    "    res = newton(fun, 0)\n",
    "    print(res)\n",
    "    if tr == 2*np.pi:\n",
    "        ax.plot(tt, fun(tt), \"k--\")\n",
    "    ax.plot(res, 0, \"kx\")\n",
    "    ax.plot(tt, fun(tt))"
   ]
  },
  {
   "cell_type": "code",
   "execution_count": 19,
   "metadata": {},
   "outputs": [],
   "source": [
    "tr, kx, kv, kt, kw, um = symbols('\\\\theta_r k_x k_v k_\\\\theta k_\\\\omega u_m')\n",
    "tt = symbols(\"\\\\tilde{\\\\theta}\", positive=True)"
   ]
  },
  {
   "cell_type": "code",
   "execution_count": 20,
   "metadata": {},
   "outputs": [],
   "source": [
    "xm = pi**2*(pi+um)\n",
    "vm = pi*um\n",
    "res = kt*(tt-tr) + sin(tt) - vm*cos(tt)\n",
    "res += kt*atan(kx*xm + kv*vm)"
   ]
  },
  {
   "cell_type": "code",
   "execution_count": 27,
   "metadata": {},
   "outputs": [
    {
     "data": {
      "image/png": "[encoded data removed]",
      "text/latex": [
       "$$\\tilde{\\theta} k_\\theta + k_\\theta \\operatorname{atan}{\\left (\\pi k_{v} u_{m} + \\pi^{2} k_{x} \\left(u_{m} + \\pi\\right) \\right )} - \\pi u_{m} \\cos{\\left (\\tilde{\\theta} \\right )} + \\sin{\\left (\\tilde{\\theta} \\right )}$$"
      ],
      "text/plain": [
       "                                       ⎛           2            ⎞             \n",
       "\\tilde{\\theta}⋅k_\\theta + k_\\theta⋅atan⎝π⋅kᵥ⋅uₘ + π ⋅kₓ⋅(uₘ + π)⎠ - π⋅uₘ⋅cos(\\\n",
       "\n",
       "                                    \n",
       "tilde{\\theta}) + sin(\\tilde{\\theta})"
      ]
     },
     "execution_count": 27,
     "metadata": {},
     "output_type": "execute_result"
    }
   ],
   "source": [
    "res.subs(tr,0)"
   ]
  },
  {
   "cell_type": "code",
   "execution_count": null,
   "metadata": {},
   "outputs": [],
   "source": [
    "%%matplotlib"
   ]
  },
  {
   "cell_type": "code",
   "execution_count": null,
   "metadata": {},
   "outputs": [],
   "source": []
  }
 ],
 "metadata": {
  "kernelspec": {
   "display_name": "Python 3",
   "language": "python",
   "name": "python3"
  },
  "language_info": {
   "codemirror_mode": {
    "name": "ipython",
    "version": 3
   },
   "file_extension": ".py",
   "mimetype": "text/x-python",
   "name": "python",
   "nbconvert_exporter": "python",
   "pygments_lexer": "ipython3",
   "version": "3.7.0"
  }
 },
 "nbformat": 4,
 "nbformat_minor": 2
}
