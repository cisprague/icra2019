{
 "cells": [
  {
   "cell_type": "code",
   "execution_count": 1,
   "metadata": {},
   "outputs": [
    {
     "name": "stdout",
     "output_type": "stream",
     "text": [
      "Using matplotlib backend: Qt5Agg\n"
     ]
    }
   ],
   "source": [
    "import sys; sys.path.append(\"../src\")\n",
    "from indirect import Indirect\n",
    "from optimisation import conds\n",
    "import numpy as np, matplotlib.pyplot as plt\n",
    "%matplotlib"
   ]
  },
  {
   "cell_type": "code",
   "execution_count": 2,
   "metadata": {},
   "outputs": [
    {
     "data": {
      "text/plain": [
       "([0, 0, 3.141592653589793, 0], [0, 0, 0, 0])"
      ]
     },
     "execution_count": 2,
     "metadata": {},
     "output_type": "execute_result"
    }
   ],
   "source": [
    "# two boundary states\n",
    "x0, xf = [[0,0,theta,0] for theta in [np.pi, 0]]\n",
    "x0, xf"
   ]
  },
  {
   "cell_type": "code",
   "execution_count": 3,
   "metadata": {},
   "outputs": [],
   "source": [
    "# instantiate indirect segment\n",
    "seg = Indirect(x0, xf)"
   ]
  },
  {
   "cell_type": "code",
   "execution_count": 4,
   "metadata": {},
   "outputs": [
    {
     "data": {
      "text/plain": [
       "array([ 5.        , -0.50312531, -0.47678474, -0.16566686, -0.05787468])"
      ]
     },
     "execution_count": 4,
     "metadata": {},
     "output_type": "execute_result"
    }
   ],
   "source": [
    "# encode duration and initial costates into decision vector\n",
    "T, l0 = 5, np.random.uniform(-1,1,seg.xdim)\n",
    "dv = seg.encode(T,l0)\n",
    "dv"
   ]
  },
  {
   "cell_type": "code",
   "execution_count": 5,
   "metadata": {},
   "outputs": [
    {
     "data": {
      "text/plain": [
       "(5.0, array([-0.50312531, -0.47678474, -0.16566686, -0.05787468]))"
      ]
     },
     "execution_count": 5,
     "metadata": {},
     "output_type": "execute_result"
    }
   ],
   "source": [
    "# decode decision vector\n",
    "seg.decode(dv)"
   ]
  },
  {
   "cell_type": "code",
   "execution_count": 6,
   "metadata": {},
   "outputs": [],
   "source": [
    "# propagate trajectory\n",
    "tl, xl, ul = seg.propagate(T, l0, 1, controls=True)"
   ]
  },
  {
   "cell_type": "code",
   "execution_count": null,
   "metadata": {},
   "outputs": [],
   "source": [
    "# plot trajectory\n",
    "seg.plot_traj(xl, pts=True, arm=True, interp=True)"
   ]
  },
  {
   "cell_type": "code",
   "execution_count": null,
   "metadata": {},
   "outputs": [],
   "source": [
    "# optimise trajectory\n",
    "z, feas = seg.solve(0, verbose=True, Tlb=2, Tub=20)"
   ]
  },
  {
   "cell_type": "code",
   "execution_count": null,
   "metadata": {},
   "outputs": [],
   "source": [
    "# plot optimal trajectory\n",
    "tl, xl, ul = seg.propagate(*seg.decode(z), 0, controls=True)\n",
    "ax = seg.plot_traj(xl, arm=False)\n",
    "ax = seg.plot_timeline(tl, xl, ul)"
   ]
  },
  {
   "cell_type": "code",
   "execution_count": null,
   "metadata": {},
   "outputs": [],
   "source": [
    "# perform homotopy\n",
    "dvah = seg.homotopy(verbose=True, fname=\"homo\")"
   ]
  },
  {
   "cell_type": "code",
   "execution_count": null,
   "metadata": {},
   "outputs": [],
   "source": [
    "# load homotopy sequence\n",
    "dvah = np.load(\"homo.npy\")"
   ]
  },
  {
   "cell_type": "code",
   "execution_count": null,
   "metadata": {},
   "outputs": [],
   "source": [
    "# plot homotopy sequence\n",
    "ax = seg.plot_homotopy(dvah)\n",
    "# plot optimal trajectory\n",
    "tl, xl, ul = seg.propagate(*seg.decode(dvah[-1,:-1]), 1, controls=True)\n",
    "ax = seg.plot_traj(xl)\n",
    "ax = seg.plot_timeline(tl, xl, ul)"
   ]
  },
  {
   "cell_type": "code",
   "execution_count": null,
   "metadata": {},
   "outputs": [],
   "source": [
    "for cond in conds:\n",
    "    try:\n",
    "        dvah = np.load(\"../data/homotopy/\" + str(cond) + \".npy\")\n",
    "        print(dvah[-1,0])\n",
    "    except:\n",
    "        continue\n",
    "    seg = Indirect(*cond)\n",
    "    seg.plot_homotopy(dvah)"
   ]
  },
  {
   "cell_type": "code",
   "execution_count": null,
   "metadata": {},
   "outputs": [],
   "source": [
    "str(cond)"
   ]
  },
  {
   "cell_type": "code",
   "execution_count": 9,
   "metadata": {},
   "outputs": [],
   "source": [
    "Tl, xl0l = seg.sample_traj(tl, xl, nn=5)"
   ]
  },
  {
   "cell_type": "code",
   "execution_count": null,
   "metadata": {},
   "outputs": [],
   "source": [
    "dvl, x0l = seg.random_walk(Tl[0], xl0l[0,:])"
   ]
  }
 ],
 "metadata": {
  "kernelspec": {
   "display_name": "Python 3",
   "language": "python",
   "name": "python3"
  },
  "language_info": {
   "codemirror_mode": {
    "name": "ipython",
    "version": 3
   },
   "file_extension": ".py",
   "mimetype": "text/x-python",
   "name": "python",
   "nbconvert_exporter": "python",
   "pygments_lexer": "ipython3",
   "version": "3.7.0"
  }
 },
 "nbformat": 4,
 "nbformat_minor": 2
}
