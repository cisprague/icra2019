{
 "cells": [
  {
   "cell_type": "code",
   "execution_count": 1,
   "metadata": {},
   "outputs": [],
   "source": [
    "import  sys; sys.path.append(\"../src\")\n",
    "from indirect import Indirect\n",
    "from optimisation import conds\n",
    "import numpy as np, matplotlib.pyplot as plt\n",
    "%matplotlib inline"
   ]
  },
  {
   "cell_type": "code",
   "execution_count": null,
   "metadata": {},
   "outputs": [],
   "source": [
    "# plot all nominal energy optimal trajectories\n",
    "for cond in conds:\n",
    "    fname = \"../data/nominal_energy/\" + str(cond) + \".npy\"\n",
    "    try:\n",
    "        dv = np.load(fname)\n",
    "    except:\n",
    "        continue\n",
    "    print(dv)\n",
    "    seg = Indirect(*cond)\n",
    "    tl, xl, ul = seg.propagate(*seg.decode(dv), 0, controls=True)\n",
    "    seg.plot_traj(xl)"
   ]
  },
  {
   "cell_type": "code",
   "execution_count": null,
   "metadata": {},
   "outputs": [],
   "source": [
    "# sample nominal trajectory\n",
    "x0 = [0,0,np.pi,0]\n",
    "xf = [0,0,0,0]\n",
    "nedir = \"../data/nominal_energy/\"\n",
    "dv = np.load(nedir + str((x0,xf)) + \".npy\")"
   ]
  },
  {
   "cell_type": "code",
   "execution_count": null,
   "metadata": {},
   "outputs": [],
   "source": [
    "To = 30\n",
    "i = 0\n",
    "while i < 5:\n",
    "    dv, feas = seg.solve(0, Tub=To+1, iter=200)\n",
    "    T = dv[0]\n",
    "    print(\"Found time {}, feasiblity {}\".format(T, feas))\n",
    "    if T < Tmin and feas:\n",
    "        To = T\n",
    "        dvo = dv\n",
    "        print(\"Minimum time is now {}\".format(Tmin))\n",
    "    elif feas:\n",
    "        print(\"This time is not better.\")\n",
    "        i += 1\n",
    "    else:\n",
    "        print(feas)\n",
    "        "
   ]
  },
  {
   "cell_type": "code",
   "execution_count": null,
   "metadata": {},
   "outputs": [],
   "source": [
    "np.load(\"../data/nominal_energy/([-1, 0, 0, 0], [0, 0, 0, 0]).npy\")"
   ]
  },
  {
   "cell_type": "code",
   "execution_count": null,
   "metadata": {},
   "outputs": [],
   "source": []
  }
 ],
 "metadata": {
  "kernelspec": {
   "display_name": "Python 3",
   "language": "python",
   "name": "python3"
  },
  "language_info": {
   "codemirror_mode": {
    "name": "ipython",
    "version": 3
   },
   "file_extension": ".py",
   "mimetype": "text/x-python",
   "name": "python",
   "nbconvert_exporter": "python",
   "pygments_lexer": "ipython3",
   "version": "3.7.0"
  }
 },
 "nbformat": 4,
 "nbformat_minor": 2
}
