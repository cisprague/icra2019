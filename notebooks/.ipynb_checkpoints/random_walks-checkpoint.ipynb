{
 "cells": [
  {
   "cell_type": "code",
   "execution_count": 1,
   "metadata": {},
   "outputs": [
    {
     "name": "stdout",
     "output_type": "stream",
     "text": [
      "Using matplotlib backend: Qt5Agg\n"
     ]
    }
   ],
   "source": [
    "import sys; sys.path.append('../src1/')\n",
    "import numpy as np, matplotlib.pyplot as plt\n",
    "from indirect import Indirect\n",
    "%matplotlib"
   ]
  },
  {
   "cell_type": "code",
   "execution_count": null,
   "metadata": {},
   "outputs": [
    {
     "name": "stdout",
     "output_type": "stream",
     "text": [
      "Trying random decision vector [12.52158374 -0.85879961  0.54993422  0.18585002  0.86534908].\n"
     ]
    },
    {
     "name": "stderr",
     "output_type": "stream",
     "text": [
      "/usr/lib/python3.7/site-packages/scipy/integrate/_ivp/common.py:32: UserWarning: The following arguments have no effect for a chosen solver: `jac`.\n",
      "  .format(\", \".join(\"`{}`\".format(x) for x in extraneous)))\n"
     ]
    },
    {
     "name": "stdout",
     "output_type": "stream",
     "text": [
      "Optimised decision vector now [11.96036249 -0.13778853 -0.94038938 -0.8707471  -0.98681714]\n",
      "Decision vector is infeasbile!\n",
      "Trying new random decision vector.\n",
      "Trying random decision vector [ 4.15812424 -0.26130738 -0.30060587 -0.49044075  0.15282311].\n",
      "Optimised decision vector now [ 5.6607045  -0.07427823  0.16996995  0.05550608  0.1191023 ]\n",
      "Decision vector is infeasbile!\n",
      "Trying new random decision vector.\n",
      "Trying random decision vector [3.121545   0.72440424 0.70825223 0.32543696 0.3112326 ].\n",
      "Optimised decision vector now [3.121545   0.72440424 0.70825223 0.32543696 0.3112326 ]\n",
      "Decision vector is infeasbile!\n",
      "Trying new random decision vector.\n",
      "Trying random decision vector [ 5.58733574  0.10273426  0.45663315  0.91542934 -0.42870888].\n",
      "Optimised decision vector now [ 5.76690937 -0.23916933 -0.67782886 -0.99999975 -0.98349789]\n",
      "Decision vector is infeasbile!\n",
      "Trying new random decision vector.\n",
      "Trying random decision vector [13.1405755  -0.31525564 -0.90459715 -0.90133086  0.11599698].\n",
      "Optimised decision vector now [ 1.06960527 -0.36702222 -0.19628824 -0.40889492 -0.19997064]\n",
      "Decision vector is infeasbile!\n",
      "Trying new random decision vector.\n",
      "Trying random decision vector [11.83918281  0.21530181 -0.56383101 -0.86888244  0.09671426].\n"
     ]
    }
   ],
   "source": [
    "x0, xf = [-1,0,0,0], [1,0,0,0]\n",
    "seg = Indirect(x0, xf)\n",
    "dv = seg.solve(0, verbose=True, atol=1e-8, rtol=1e-8, Tlb=1, Tub=20, iter=20)"
   ]
  },
  {
   "cell_type": "code",
   "execution_count": null,
   "metadata": {},
   "outputs": [],
   "source": [
    "tl, xl, ul = seg.propagate(*seg.decode(dv), 0.5, controls=True)\n",
    "seg.plot_traj(xl)\n",
    "seg.plot_timeline(tl, xl, ul)"
   ]
  },
  {
   "cell_type": "code",
   "execution_count": null,
   "metadata": {},
   "outputs": [],
   "source": []
  }
 ],
 "metadata": {
  "kernelspec": {
   "display_name": "Python 3",
   "language": "python",
   "name": "python3"
  },
  "language_info": {
   "codemirror_mode": {
    "name": "ipython",
    "version": 3
   },
   "file_extension": ".py",
   "mimetype": "text/x-python",
   "name": "python",
   "nbconvert_exporter": "python",
   "pygments_lexer": "ipython3",
   "version": "3.7.0"
  }
 },
 "nbformat": 4,
 "nbformat_minor": 2
}
